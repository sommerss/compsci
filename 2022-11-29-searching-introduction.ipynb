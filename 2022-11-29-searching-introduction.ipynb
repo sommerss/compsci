{
 "cells": [
  {
   "cell_type": "markdown",
   "metadata": {},
   "source": [
    "# Searching Introduction\n",
    "> Introduction to the binary search algorithm, it's uses, advantages, and disadvantages\n",
    "- toc: true \n",
    "- badges: true\n",
    "- comments: true"
   ]
  },
  {
   "cell_type": "markdown",
   "metadata": {},
   "source": [
    "## What is searching?\n",
    "In certain computer programs and applications, one might find the need to locate and retrieve a data value and/or it's index. Searching algorithms could be done in either intervals or sequences, and certain algorithms could be more efficient than others, with benefits and drawbacks to each.\n",
    "\n"
   ]
  },
  {
   "cell_type": "markdown",
   "metadata": {},
   "source": [
    "## The Naive Approach\n",
    "The most intuitively obvious solution to the searching problem is to sequentialy check each successful value in the data structure until either a matching value is found, or the entire structure has been transversed. This thought process could be explained graphically in this example\n",
    "\n"
   ]
  },
  {
   "cell_type": "code",
   "execution_count": null,
   "metadata": {},
   "outputs": [],
   "source": [
    "#hide_input\n",
    "from IPython import display\n",
    "display.Image(\"../images/SequentialSearch.png\")"
   ]
  },
  {
   "cell_type": "markdown",
   "metadata": {},
   "source": [
    "This algorithm could also be expressed in code, as shown below."
   ]
  },
  {
   "cell_type": "code",
   "execution_count": null,
   "metadata": {},
   "outputs": [],
   "source": [
    "def sequentialSearch(arr, target):\n",
    "    N = len(arr)                     # Declare N as length of array\n",
    "    for i in range(N):               # Iterate over the list\n",
    "        if arr[i] == target:         # Check for match\n",
    "            return i                 # Match found, return index and end function call\n",
    "    return -1                        # Element not found"
   ]
  },
  {
   "cell_type": "markdown",
   "metadata": {},
   "source": [
    "### Sequential Search - Larger Inputs\n",
    "Although for selection sort is seemingly fast for smaller inputs, it is clear that it cannot keep up with increasing input sizes. Because sequential search checks every value of the given array, the algorithm's overall runtime increases \"linearly\" with the input size.\n",
    "\n",
    "i.e. Pretend that one check takes one second, and that we are searching for the last element in an array. If the array length is 4, it would take 4 seconds to find the last element, whereas if the array length is 86400 indices long, it would take a whole day to find the element.  \n",
    "\n",
    "Hence, although selection sort is known for its simplicity, it is unfeasible for large inputs"
   ]
  },
  {
   "cell_type": "markdown",
   "metadata": {},
   "source": [
    "Below, we have created three **sorted** lists of length 100,1000000,100000000."
   ]
  },
  {
   "cell_type": "code",
   "execution_count": null,
   "metadata": {},
   "outputs": [],
   "source": [
    "import time\n",
    "arr1 = [i for i in range(100)]\n",
    "arr2 = [i for i in range(1000000)]\n",
    "arr3 = [i for i in range(100000000)]"
   ]
  },
  {
   "cell_type": "markdown",
   "metadata": {},
   "source": [
    "To analyze the sequential search algorithm, we will check for the worst case scenario, where runtime is maximized. This is because when measuring the efficiency of our algorithm, we want to be able to guarantee an upper limit or set amount of time for our program to finish running. To do this, we will attempt to search for the last element in the array"
   ]
  },
  {
   "cell_type": "code",
   "execution_count": null,
   "metadata": {},
   "outputs": [],
   "source": [
    "## arr1\n",
    "print(\"length of list: \", len(arr1))\n",
    "s = time.time()\n",
    "print(\"Index: \", sequentialSearch(arr1,99))\n",
    "e = time.time()\n",
    "print('Execution time:', (e-s)*1000, 'ms')"
   ]
  },
  {
   "cell_type": "code",
   "execution_count": null,
   "metadata": {},
   "outputs": [],
   "source": [
    "## arr2\n",
    "print(\"length of list: \", len(arr2))\n",
    "s = time.time()\n",
    "print(\"Index: \", sequentialSearch(arr2,999999))\n",
    "e = time.time()\n",
    "print('Execution time:', (e-s)*1000, 'ms')"
   ]
  },
  {
   "cell_type": "code",
   "execution_count": null,
   "metadata": {},
   "outputs": [],
   "source": [
    "## arr3\n",
    "print(\"length of list: \", len(arr3))\n",
    "s = time.time()\n",
    "print(\"Index: \", sequentialSearch(arr3,99999999))\n",
    "e = time.time()\n",
    "print('Execution time:', (e-s)*1000, 'ms')"
   ]
  },
  {
   "cell_type": "markdown",
   "metadata": {},
   "source": [
    "As you can see, as the input list grows larger and larger, the overall runtime of the program increases linearly as well, resulting in a lower scalability for the sequential search algorithm."
   ]
  },
  {
   "cell_type": "markdown",
   "metadata": {},
   "source": [
    "## Binary Search\n",
    "Binary search is an efficient way to iterate through a ***SORTED*** list to find a requested value. This is done through checking the middle value of a list and checking if the requested value is greater than or less than the middle value. You can start to see why the requested list must be sorted. If the list is not sorted, this logic is flawed, and the binary search algorithm will no longer work.\n",
    "\n",
    "Unlike the sequential search method, binary search doesn't check for each successive element until a match is found. In every iteration the algorithm is making a binary decision; if the selected element is larger or smaller than the target.\n",
    "\n",
    "How exactly does this work? Lets look at these amazing ms paint drawings:"
   ]
  },
  {
   "cell_type": "code",
   "execution_count": null,
   "metadata": {},
   "outputs": [],
   "source": [
    "#hide_input\n",
    "display.Image(\"../images/BinarySearch1.png\")"
   ]
  },
  {
   "cell_type": "code",
   "execution_count": null,
   "metadata": {},
   "outputs": [],
   "source": [
    "#hide_input\n",
    "display.Image(\"../images/BinarySearch2.png\")"
   ]
  },
  {
   "cell_type": "markdown",
   "metadata": {},
   "source": [
    "*i was too lazy to make a third so ur gonna have to live with 2 :)*"
   ]
  },
  {
   "cell_type": "markdown",
   "metadata": {},
   "source": [
    "This algorithm is extremely efficient as the maximum number of cycles in binary search is equal to log base 2 of the closest, next power of two, to length of list. \n",
    "> If the array is 8 items long, the maximum possible cycles would be **3** (log base 2 of 8 is 3)\n",
    ">\n",
    "> If the array is 7 items long, the maximum possible cycles would **STILL** be **3** as the closest power of 2 to 7 is 8. \n",
    "> \n",
    "> If the array is 9 items long, the maximum possible cycles **INCREASES** to **4**, as the closest, next power of two, is 16.\n"
   ]
  },
  {
   "cell_type": "code",
   "execution_count": null,
   "metadata": {},
   "outputs": [],
   "source": [
    "def binarySearch(array, target):            # Parameters: array is the given array and target is what we are looking for\n",
    "    low = 0                                 # the starting lower bound\n",
    "    high = len(array)-1                     # the starting upper bound\n",
    "    while high >= low:                      # we will keep running until we run out of possible subarrays...\n",
    "        mid = (high + low) // 2             #   define the middle of the list to be the item at the index of the average of the lower and upper bound\n",
    "        if array[mid] == target:            #   if item is in the middle of the list... we found what we are looking for!\n",
    "            return mid                      #       therefore, we return the index of where we found the item.\n",
    "        elif array[mid] > target:           #   if item is less than the middle of the list, this must mean that the item is on the lower half of the list\n",
    "            high = mid-1                    #       therefore, we set the upper bound of the search to be the last item of the lower half\n",
    "        else:                               #   if item is neither less than or equal to the middle of the list, this must mean that the item is on the upper half of the list\n",
    "            low = mid+1                     #       therefore, we set the lower bound of the search to be the first item of the upper half\n",
    "                                            # if nothing is returned by the time the while loop ends, that means item MUST be missing from list\n",
    "    return False                            #   therefore we tell the user that the requested item was not found\n"
   ]
  },
  {
   "cell_type": "markdown",
   "metadata": {},
   "source": [
    "Likewise, we can also take a recursive approach to this problem, note the similarities"
   ]
  },
  {
   "cell_type": "code",
   "execution_count": null,
   "metadata": {},
   "outputs": [],
   "source": [
    "def BinarySearchRecursion(arr, target, lo, hi):\n",
    "    if lo > hi:\n",
    "        return False\n",
    "    mid = (lo+hi)//2\n",
    "    if arr[mid] == target:\n",
    "        return mid\n",
    "    elif arr[mid] > target:\n",
    "        return BinarySearchRecursion(arr, target, lo, mid-1)\n",
    "    elif arr[mid] < target:\n",
    "        return BinarySearchRecursion(arr, target, mid+1, hi)"
   ]
  },
  {
   "cell_type": "markdown",
   "metadata": {},
   "source": [
    "Now, let's compare the runtime with the same lists we tried with the sequential search algorithm."
   ]
  },
  {
   "cell_type": "code",
   "execution_count": null,
   "metadata": {},
   "outputs": [],
   "source": [
    "## arr1\n",
    "print(\"length of list: \", len(arr1))\n",
    "s = time.time()\n",
    "print(\"Index: \", binarySearch(arr1,99))\n",
    "e = time.time()\n",
    "print('Execution time:', (e-s)*1000, 'ms')"
   ]
  },
  {
   "cell_type": "code",
   "execution_count": null,
   "metadata": {},
   "outputs": [],
   "source": [
    "## arr2\n",
    "print(\"length of list: \", len(arr2))\n",
    "s = time.time()\n",
    "print(\"Index: \", binarySearch(arr2,999999))\n",
    "e = time.time()\n",
    "print('Execution time:', (e-s)*1000, 'ms')"
   ]
  },
  {
   "cell_type": "code",
   "execution_count": null,
   "metadata": {},
   "outputs": [],
   "source": [
    "## arr3\n",
    "print(\"length of list: \", len(arr3))\n",
    "s = time.time()\n",
    "print(\"Index: \", binarySearch(arr3,99999999))\n",
    "e = time.time()\n",
    "print('Execution time:', (e-s)*1000, 'ms')"
   ]
  },
  {
   "cell_type": "code",
   "execution_count": null,
   "metadata": {},
   "outputs": [],
   "source": [
    "## Case: Element not found \n",
    "arr4 = [1,4,5,8,10,13,145,1938]\n",
    "print(\"Index: \", binarySearch(arr4,17))"
   ]
  },
  {
   "cell_type": "markdown",
   "metadata": {},
   "source": [
    "## Challenges and Homework\n",
    "\n",
    "You have one homework problem.\n",
    "  \n",
    "Yes just one.\n",
    "  \n",
    "Don't get excited though.\n",
    "\n",
    "**Problem:** Given a specific integer **N**, return the square root of **N** (**R**) if **N** is a perfect square, otherwise, return the square root of **N** rounded down to the nearest integer\n",
    "\n",
    "**Input:** **N** (Integer)\n",
    "\n",
    "**Output:** **R** (Integer)\n",
    "  \n",
    "**Constraints:** Do not use any built-in math operations such as `sqrt(x)` or `x**(0.5)`, Try complete the problem in logarithmic time. cutting down the array by excluding other potential inputs\n",
    "  \n",
    "**Hint 1:** Maybe you can use Binary Search to try and reduce the number of checks you have to perform?  \n",
    "  \n",
    "**Hint 2:** Is there a mathematical pattern amongst numbers and their square roots that could help you reduce the number of searches or iterations you must execute? Is there some value or rule you can set before applying binary search to narrow the range of possible values?"
   ]
  },
  {
   "cell_type": "markdown",
   "metadata": {},
   "source": [
    "Run the very last code segment below to load test cases and submission function"
   ]
  },
  {
   "cell_type": "code",
   "execution_count": 23,
   "metadata": {},
   "outputs": [
    {
     "ename": "TypeError",
     "evalue": "unsupported operand type(s) for ** or pow(): 'str' and 'float'",
     "output_type": "error",
     "traceback": [
      "\u001b[0;31m---------------------------------------------------------------------------\u001b[0m",
      "\u001b[0;31mTypeError\u001b[0m                                 Traceback (most recent call last)",
      "Cell \u001b[0;32mIn [23], line 2\u001b[0m\n\u001b[1;32m      1\u001b[0m b\u001b[39m=\u001b[39m \u001b[39minput\u001b[39m()\n\u001b[0;32m----> 2\u001b[0m a \u001b[39m=\u001b[39m b\u001b[39m*\u001b[39m\u001b[39m*\u001b[39m\u001b[39m0.5\u001b[39m\n\u001b[1;32m      3\u001b[0m \u001b[39mdef\u001b[39;00m \u001b[39msqrt\u001b[39m(b):\n\u001b[1;32m      4\u001b[0m     \u001b[39mif\u001b[39;00m b \u001b[39m%\u001b[39m \u001b[39m2\u001b[39m \u001b[39m==\u001b[39m \u001b[39m0\u001b[39m:\n",
      "\u001b[0;31mTypeError\u001b[0m: unsupported operand type(s) for ** or pow(): 'str' and 'float'"
     ]
    }
   ],
   "source": [
    "\n",
    "\n",
    "\n",
    "    "
   ]
  },
  {
   "cell_type": "code",
   "execution_count": 28,
   "metadata": {},
   "outputs": [],
   "source": [
    "def sqrt(N):\n",
    "    vb = N\n",
    "    vble = (vb+1) // 2\n",
    "    while vble < vb:\n",
    "        vb = vble\n",
    "        vble = (vb + N //vb) //2\n",
    "    return vb"
   ]
  },
  {
   "cell_type": "code",
   "execution_count": 29,
   "metadata": {},
   "outputs": [
    {
     "name": "stdout",
     "output_type": "stream",
     "text": [
      "Check number 1 passed\n",
      "Check number 2 passed\n",
      "Check number 3 passed\n",
      "Check number 4 passed\n",
      "Check number 5 passed\n",
      "Check number 6 passed\n",
      "Check number 7 passed\n",
      "Check number 8 passed\n",
      "Check number 9 passed\n",
      "Check number 10 passed\n",
      "Check number 11 passed\n",
      "Check number 12 passed\n",
      "Check number 13 passed\n"
     ]
    }
   ],
   "source": [
    "from math import sqrt as sq\n",
    "test_cases = [0,1,4,85248289,22297284,18939904,91107025,69122596,9721924,37810201,1893294144,8722812816,644398225]\n",
    "answers = [int(sq(x)) for x in test_cases]\n",
    "\n",
    "def checkValid():\n",
    "    for i in range(len(test_cases)):\n",
    "        if sqrt(test_cases[i]) == answers[i]:\n",
    "            print(\"Check number {} passed\".format(i+1))\n",
    "        else:\n",
    "            print(\"Check number {} failed\".format(i+1))\n",
    "\n",
    "checkValid()"
   ]
  }
 ],
 "metadata": {
  "kernelspec": {
   "display_name": "Python 3.10.6 64-bit",
   "language": "python",
   "name": "python3"
  },
  "language_info": {
   "codemirror_mode": {
    "name": "ipython",
    "version": 3
   },
   "file_extension": ".py",
   "mimetype": "text/x-python",
   "name": "python",
   "nbconvert_exporter": "python",
   "pygments_lexer": "ipython3",
   "version": "3.10.6"
  },
  "orig_nbformat": 4,
  "vscode": {
   "interpreter": {
    "hash": "b0fa6594d8f4cbf19f97940f81e996739fb7646882a419484c72d19e05852a7e"
   }
  }
 },
 "nbformat": 4,
 "nbformat_minor": 2
}
