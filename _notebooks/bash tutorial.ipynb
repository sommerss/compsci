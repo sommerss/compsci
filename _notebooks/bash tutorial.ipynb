{
 "cells": [
  {
   "cell_type": "code",
   "execution_count": 1,
   "metadata": {
    "vscode": {
     "languageId": "shellscript"
    }
   },
   "outputs": [
    {
     "name": "stdout",
     "output_type": "stream",
     "text": [
      "Using conditional statement to create a project directory and project\n",
      "Directory /home/wts/vscode exists.\n",
      "Directory /home/wts/vscode/APCSP exists.\n"
     ]
    }
   ],
   "source": [
    "echo \"Using conditional statement to create a project directory and project\"\n",
    "\n",
    "# Variable section\n",
    "export project_dir=$HOME/vscode  # change vscode to different name to test git clone\n",
    "export project=$project_dir/APCSP  # change APCSP to name of project from git clone\n",
    "export project_repo=\"https://github.com/nighthawkcoders/APCSP.git\"  # change to project of choice\n",
    "\n",
    "cd ~    # start in home directory\n",
    "\n",
    "# Conditional block to make a project directory\n",
    "if [ ! -d $project_dir ]\n",
    "then \n",
    "    echo \"Directory $project_dir does not exists... makinng directory $project_dir\"\n",
    "    mkdir -p $project_dir\n",
    "fi\n",
    "echo \"Directory $project_dir exists.\" \n",
    "\n",
    "# Conditional block to git clone a project from project_repo\n",
    "if [ ! -d $project ]\n",
    "then\n",
    "    echo \"Directory $project does not exists... cloning $project_repo\"\n",
    "    cd $project_dir\n",
    "    git clone $project_repo\n",
    "    cd ~\n",
    "fi\n",
    "echo \"Directory $project exists.\" "
   ]
  },
  {
   "cell_type": "code",
   "execution_count": 2,
   "metadata": {
    "vscode": {
     "languageId": "shellscript"
    }
   },
   "outputs": [
    {
     "name": "stdout",
     "output_type": "stream",
     "text": [
      "Navigate to project, then navigate to area wwhere files were cloned\n",
      "/home/wts/vscode/APCSP\n",
      "\n",
      "list top level or root of files with project pulled from github\n",
      "\u001b[0m\u001b[01;34m_action_files\u001b[0m       \u001b[01;34m_fastpages_docs\u001b[0m  index.html  \u001b[01;34m_notebooks\u001b[0m  \u001b[01;34mpython\u001b[0m\n",
      "\u001b[01;34massets\u001b[0m              \u001b[01;32mGemfile\u001b[0m          \u001b[01;34m_layouts\u001b[0m    \u001b[01;34m_pages\u001b[0m      \u001b[01;32mREADME.md\u001b[0m\n",
      "_config.yml         \u001b[01;34mimages\u001b[0m           LICENSE     \u001b[01;34m_plugins\u001b[0m    \u001b[01;34m_sass\u001b[0m\n",
      "\u001b[01;32mdocker-compose.yml\u001b[0m  \u001b[01;34m_includes\u001b[0m        \u001b[01;32mMakefile\u001b[0m    \u001b[01;34m_posts\u001b[0m      \u001b[01;34m_word\u001b[0m\n",
      "\n",
      "list again with hidden files pulled from github\n",
      "\u001b[0m\u001b[01;34m.\u001b[0m                   \u001b[01;32mdocker-compose.yml\u001b[0m  .gitignore  \u001b[01;32mMakefile\u001b[0m    \u001b[01;32mREADME.md\u001b[0m\n",
      "\u001b[01;34m..\u001b[0m                  \u001b[01;34m_fastpages_docs\u001b[0m     \u001b[01;34mimages\u001b[0m      \u001b[01;34m_notebooks\u001b[0m  \u001b[01;34m_sass\u001b[0m\n",
      "\u001b[01;34m_action_files\u001b[0m       \u001b[01;32mGemfile\u001b[0m             \u001b[01;34m_includes\u001b[0m   \u001b[01;34m_pages\u001b[0m      \u001b[01;34m.vscode\u001b[0m\n",
      "\u001b[01;34massets\u001b[0m              \u001b[01;34m.git\u001b[0m                index.html  \u001b[01;34m_plugins\u001b[0m    \u001b[01;34m_word\u001b[0m\n",
      "_config.yml         .gitattributes      \u001b[01;34m_layouts\u001b[0m    \u001b[01;34m_posts\u001b[0m\n",
      ".devcontainer.json  \u001b[01;34m.github\u001b[0m             LICENSE     \u001b[01;34mpython\u001b[0m\n",
      "\n",
      "list all files in long format\n",
      "total 120\n",
      "drwxrwxr-x 18 wts wts  4096 Aug 23 15:19 \u001b[0m\u001b[01;34m.\u001b[0m\n",
      "drwxrwxr-x  7 wts wts  4096 Aug 23 15:19 \u001b[01;34m..\u001b[0m\n",
      "drwxrwxr-x  2 wts wts  4096 Aug 23 15:19 \u001b[01;34m_action_files\u001b[0m\n",
      "drwxrwxr-x  4 wts wts  4096 Aug 23 15:19 \u001b[01;34massets\u001b[0m\n",
      "-rw-rw-r--  1 wts wts  3716 Aug 23 15:19 _config.yml\n",
      "-rw-rw-r--  1 wts wts   420 Aug 23 15:19 .devcontainer.json\n",
      "-rwxrwxr-x  1 wts wts  1136 Aug 23 15:19 \u001b[01;32mdocker-compose.yml\u001b[0m\n",
      "drwxrwxr-x  2 wts wts  4096 Aug 23 15:19 \u001b[01;34m_fastpages_docs\u001b[0m\n",
      "-rwxrwxr-x  1 wts wts  1304 Aug 23 15:19 \u001b[01;32mGemfile\u001b[0m\n",
      "drwxrwxr-x  8 wts wts  4096 Aug 25 14:45 \u001b[01;34m.git\u001b[0m\n",
      "-rw-rw-r--  1 wts wts    84 Aug 23 15:19 .gitattributes\n",
      "drwxrwxr-x  4 wts wts  4096 Aug 23 15:19 \u001b[01;34m.github\u001b[0m\n",
      "-rw-rw-r--  1 wts wts   917 Aug 23 15:19 .gitignore\n",
      "drwxrwxr-x  5 wts wts  4096 Aug 23 15:19 \u001b[01;34mimages\u001b[0m\n",
      "drwxrwxr-x  2 wts wts  4096 Aug 23 15:19 \u001b[01;34m_includes\u001b[0m\n",
      "-rw-rw-r--  1 wts wts  1061 Aug 23 15:19 index.html\n",
      "drwxrwxr-x  2 wts wts  4096 Aug 23 15:19 \u001b[01;34m_layouts\u001b[0m\n",
      "-rw-rw-r--  1 wts wts 11351 Aug 23 15:19 LICENSE\n",
      "-rwxrwxr-x  1 wts wts  1422 Aug 23 15:19 \u001b[01;32mMakefile\u001b[0m\n",
      "drwxrwxr-x  4 wts wts  4096 Aug 28 18:45 \u001b[01;34m_notebooks\u001b[0m\n",
      "drwxrwxr-x  2 wts wts  4096 Aug 23 15:19 \u001b[01;34m_pages\u001b[0m\n",
      "drwxrwxr-x  2 wts wts  4096 Aug 23 15:19 \u001b[01;34m_plugins\u001b[0m\n",
      "drwxrwxr-x  2 wts wts  4096 Aug 23 15:19 \u001b[01;34m_posts\u001b[0m\n",
      "drwxrwxr-x  2 wts wts  4096 Aug 23 15:19 \u001b[01;34mpython\u001b[0m\n",
      "-rwxrwxr-x  1 wts wts  3614 Aug 23 15:19 \u001b[01;32mREADME.md\u001b[0m\n",
      "drwxrwxr-x  3 wts wts  4096 Aug 23 15:19 \u001b[01;34m_sass\u001b[0m\n",
      "drwxrwxr-x  2 wts wts  4096 Aug 23 15:19 \u001b[01;34m.vscode\u001b[0m\n",
      "drwxrwxr-x  2 wts wts  4096 Aug 23 15:19 \u001b[01;34m_word\u001b[0m\n"
     ]
    }
   ],
   "source": [
    "# You must run cells above to define variable and project\n",
    "\n",
    "echo \"Navigate to project, then navigate to area wwhere files were cloned\"\n",
    "cd $project\n",
    "pwd\n",
    "\n",
    "echo \"\"\n",
    "echo \"list top level or root of files with project pulled from github\"\n",
    "ls\n",
    "\n",
    "echo \"\"\n",
    "echo \"list again with hidden files pulled from github\"\n",
    "ls -a   # hidden files flag, many shell commands have flags\n",
    "\n",
    "echo \"\"\n",
    "echo \"list all files in long format\"\n",
    "ls -al   # all files and long listing"
   ]
  },
  {
   "cell_type": "code",
   "execution_count": 3,
   "metadata": {
    "vscode": {
     "languageId": "shellscript"
    }
   },
   "outputs": [
    {
     "name": "stdout",
     "output_type": "stream",
     "text": [
      "Look for posts\n",
      "/home/wts/vscode/APCSP/_posts\n",
      "total 228\n",
      "-rw-rw-r-- 1 wts wts 21306 Aug 23 15:19 2022-06-01-TT160-deploy.md\n",
      "-rw-rw-r-- 1 wts wts  5861 Aug 23 15:19 2022-07-07-PBL-binary.md\n",
      "-rw-rw-r-- 1 wts wts  3085 Aug 23 15:19 2022-07-08-PBL-grade_calc.md\n",
      "-rw-rw-r-- 1 wts wts  3698 Aug 23 15:19 2022-07-08-PBL-graph.md\n",
      "-rw-rw-r-- 1 wts wts  5729 Aug 23 15:19 2022-07-08-PBL-life.md\n",
      "-rw-rw-r-- 1 wts wts 14387 Aug 23 15:19 2022-07-08-PBL-snake.md\n",
      "-rw-rw-r-- 1 wts wts   334 Aug 23 15:19 2022-07-10-PBL-database.md\n",
      "-rw-rw-r-- 1 wts wts  2908 Aug 23 15:19 2022-07-10-PBL-jokes.md\n",
      "-rw-rw-r-- 1 wts wts  4046 Aug 23 15:19 2022-07-10-PBL-rapidapi.md\n",
      "-rw-rw-r-- 1 wts wts  6685 Aug 23 15:19 2022-07-19-PBL-calculator.md\n",
      "-rw-rw-r-- 1 wts wts 23325 Aug 23 15:19 2022-07-25-CSP-workshop.md\n",
      "-rw-rw-r-- 1 wts wts  2333 Aug 23 15:19 2022-08-15-TP000-student_score_history.md\n",
      "-rw-rw-r-- 1 wts wts  4363 Aug 23 15:19 2022-08-15-TP100-pseudo_code.md\n",
      "-rw-rw-r-- 1 wts wts  7968 Aug 23 15:19 2022-08-15-TR100-tool_setup.md\n",
      "-rw-rw-r-- 1 wts wts 15026 Aug 23 15:19 2022-08-15-TT100-tools.md\n",
      "-rw-rw-r-- 1 wts wts  5590 Aug 23 15:19 2022-08-15-TT101-vscode-wsl.md\n",
      "-rw-rw-r-- 1 wts wts  2155 Aug 23 15:19 2022-08-22-TR110-intro_python.md\n",
      "-rw-rw-r-- 1 wts wts  5173 Aug 23 15:19 2022-08-22-TT110-fastpages.md\n",
      "-rw-rw-r-- 1 wts wts  2798 Aug 23 15:19 2022-08-22-TT110-focus.md\n",
      "-rw-rw-r-- 1 wts wts  2737 Aug 23 15:19 2022-08-29-TR120-data_abstract.md\n",
      "-rw-rw-r-- 1 wts wts 10683 Aug 23 15:19 2022-08-29-TT120-agile.md\n",
      "-rw-rw-r-- 1 wts wts  4498 Aug 23 15:19 2022-08-29-TT120-html_fragments.md\n",
      "-rw-rw-r-- 1 wts wts  9037 Aug 23 15:19 2022-09-05-TP130-create_performance_task.md\n",
      "-rw-rw-r-- 1 wts wts  7753 Aug 23 15:19 2022-09-05-TP131-create-task-bria.md\n",
      "-rw-rw-r-- 1 wts wts  8066 Aug 23 15:19 2022-09-05-TR130-creative_development.md\n",
      "-rw-rw-r-- 1 wts wts  3520 Aug 23 15:19 2022-09-05-TT130-applab.md\n",
      "-rw-rw-r-- 1 wts wts   720 Aug 23 15:19 README.md\n"
     ]
    }
   ],
   "source": [
    "# You must run cells above to define variable and project\n",
    "\n",
    "echo \"Look for posts\"\n",
    "export posts=$project/_posts  # _posts inside project\n",
    "cd $posts  # this should exist per fastpages\n",
    "pwd  # present working directory\n",
    "ls -l  # list posts"
   ]
  },
  {
   "cell_type": "code",
   "execution_count": 4,
   "metadata": {
    "vscode": {
     "languageId": "shellscript"
    }
   },
   "outputs": [
    {
     "name": "stdout",
     "output_type": "stream",
     "text": [
      "Look for notebooks\n",
      "/home/wts/vscode/APCSP/_notebooks\n",
      "total 144\n",
      "-rw-rw-r-- 1 wts wts 14243 Aug 23 15:19 2022-06-01-TT150-webapi_tutorial.ipynb\n",
      "-rw-rw-r-- 1 wts wts  8653 Aug 23 15:19 2022-07-21-PBL-neo4j_intro.ipynb\n",
      "-rw-rw-r-- 1 wts wts 11694 Aug 23 15:19 2022-08-22-TP110-python_hello.ipynb\n",
      "-rw-rw-r-- 1 wts wts 20003 Aug 23 15:19 2022-08-22-TT110-anthony_and_sahil.ipynb\n",
      "-rw-rw-r-- 1 wts wts  9525 Aug 23 15:19 2022-08-22-TT110-bash_tutorial.ipynb\n",
      "-rw-rw-r-- 1 wts wts 35721 Aug 25 14:44 2022-08-25-tool_check.ipynb\n",
      "-rw-rw-r-- 1 wts wts 10141 Aug 23 15:19 2022-08-29-TP120-python_lists.ipynb\n",
      "-rw-rw-r-- 1 wts wts 12632 Aug 23 15:19 2022-09-05-TT130-js_tutorial.ipynb\n",
      "drwxrwxr-x 2 wts wts  4096 Aug 23 15:19 \u001b[0m\u001b[01;34mimages\u001b[0m\n",
      "-rw-rw-r-- 1 wts wts   771 Aug 23 15:19 README.md\n"
     ]
    }
   ],
   "source": [
    "# You must run cells above to define variable and project\n",
    "\n",
    "echo \"Look for notebooks\"\n",
    "export notebooks=$project/_notebooks  # _notebooks is inside project\n",
    "cd $notebooks   # this should exist per fastpages\n",
    "pwd  # present working directory\n",
    "ls -l  # list notebooks\n"
   ]
  },
  {
   "cell_type": "code",
   "execution_count": 5,
   "metadata": {
    "vscode": {
     "languageId": "shellscript"
    }
   },
   "outputs": [
    {
     "name": "stdout",
     "output_type": "stream",
     "text": [
      "Look for images in notebooks, print working directory, list files\n",
      "/home/wts/vscode/APCSP/_notebooks/images\n",
      "total 100\n",
      "-rw-rw-r-- 1 wts wts 101617 Aug 23 15:19 \u001b[0m\u001b[01;35mkernels.png\u001b[0m\n"
     ]
    }
   ],
   "source": [
    "# You must run cells above to define notebooks location\n",
    "\n",
    "echo \"Look for images in notebooks, print working directory, list files\"\n",
    "cd $notebooks/images  # this should exist per fastpages\n",
    "pwd\n",
    "ls -l"
   ]
  },
  {
   "cell_type": "code",
   "execution_count": 6,
   "metadata": {
    "vscode": {
     "languageId": "shellscript"
    }
   },
   "outputs": [
    {
     "name": "stdout",
     "output_type": "stream",
     "text": [
      "Navigate to project, then navigate to area wwhere files were cloned\n",
      "show the contents of README.md\n",
      "\n",
      "[//]: # (This template replaces README.md when someone creates a new repo with the fastpages template.)\n",
      "\n",
      "![](https://github.com/nighthawkcoders/APCSP/workflows/CI/badge.svg) \n",
      "![](https://github.com/nighthawkcoders/APCSP/workflows/GH-Pages%20Status/badge.svg) \n",
      "[![](https://img.shields.io/static/v1?label=fastai&message=fastpages&color=57aeac&labelColor=black&style=flat&logo=data:image/png;base64,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)](https://github.com/fastai/fastpages)\n",
      "\n",
      "https://nighthawkcoders.github.io/APCSP/\n",
      "\n",
      "# My Blog\n",
      "\n",
      "\n",
      "_powered by [fastpages](https://github.com/fastai/fastpages)_\n",
      "\n",
      "\n",
      "## What To Do Next?\n",
      "\n",
      "Great!  You have setup your repo.  Now its time to start writing content.  Some helpful links:\n",
      "\n",
      "- [Writing Blogs With Jupyter](https://github.com/fastai/fastpages#writing-blog-posts-with-jupyter)\n",
      "\n",
      "- [Writing Blogs With Markdown](https://github.com/fastai/fastpages#writing-blog-posts-with-markdown)\n",
      "\n",
      "- [Writing Blog Posts With Word](https://github.com/fastai/fastpages#writing-blog-posts-with-microsoft-word)\n",
      "\n",
      "- [(Optional) Preview Your Blog Locally](_fastpages_docs/DEVELOPMENT.md)\n",
      "\n",
      "Note: you may want to remove example blog posts from the `_posts`,  `_notebooks` or `_word` folders (but leave them empty, don't delete these folders) if you don't want these blog posts to appear on your site.\n",
      "\n",
      "Please use the [nbdev & blogging channel](https://forums.fast.ai/c/fastai-users/nbdev/48) in the fastai forums for any questions or feature requests.\n",
      "\n",
      "end of README.md\n"
     ]
    }
   ],
   "source": [
    "# You must run cells above to define project\n",
    "echo \"Navigate to project, then navigate to area wwhere files were cloned\"\n",
    "\n",
    "cd $project\n",
    "echo \"show the contents of README.md\"\n",
    "echo \"\"\n",
    "\n",
    "cat README.md  # show contents of file, in this case markdown\n",
    "echo \"\"\n",
    "echo \"end of README.md\""
   ]
  },
  {
   "cell_type": "code",
   "execution_count": 7,
   "metadata": {
    "vscode": {
     "languageId": "shellscript"
    }
   },
   "outputs": [
    {
     "name": "stdout",
     "output_type": "stream",
     "text": [
      "Show the shell environment variables, key on left of equal value on right\n",
      "\n",
      "SHELL=/bin/bash\n",
      "SESSION_MANAGER=local/wts-HP-Pavilion-x360-Convertible-11m-ad0xx:@/tmp/.ICE-unix/1856,unix/wts-HP-Pavilion-x360-Convertible-11m-ad0xx:/tmp/.ICE-unix/1856\n",
      "QT_ACCESSIBILITY=1\n",
      "SNAP_REVISION=105\n",
      "COLORTERM=truecolor\n",
      "XDG_CONFIG_DIRS=/etc/xdg/xdg-ubuntu:/etc/xdg\n",
      "PYTHONUNBUFFERED=1\n",
      "XDG_MENU_PREFIX=gnome-\n",
      "project=/home/wts/vscode/APCSP\n",
      "GNOME_DESKTOP_SESSION_ID=this-is-deprecated\n",
      "CONDA_EXE=/home/wts/anaconda3/bin/conda\n",
      "_CE_M=\n",
      "APPLICATION_INSIGHTS_NO_DIAGNOSTIC_CHANNEL=true\n",
      "SNAP_REAL_HOME=/home/wts\n",
      "SNAP_USER_COMMON=/home/wts/snap/code/common\n",
      "GNOME_SHELL_SESSION_MODE=ubuntu\n",
      "SSH_AUTH_SOCK=/run/user/1000/keyring/ssh\n",
      "SNAP_INSTANCE_KEY=\n",
      "ELECTRON_RUN_AS_NODE=1\n",
      "XMODIFIERS=@im=ibus\n",
      "DESKTOP_SESSION=ubuntu\n",
      "SSH_AGENT_PID=1818\n",
      "GDK_PIXBUF_MODULE_FILE=/home/wts/snap/code/common/.cache/gdk-pixbuf-loaders.cache\n",
      "VSCODE_AMD_ENTRYPOINT=vs/workbench/api/node/extensionHostProcess\n",
      "GTK_MODULES=gail:atk-bridge\n",
      "PWD=/home/wts/vscode/APCSP\n",
      "GSETTINGS_SCHEMA_DIR=/snap/code/105/usr/share/glib-2.0/schemas\n",
      "XDG_SESSION_DESKTOP=ubuntu\n",
      "LOGNAME=wts\n",
      "CONDA_ROOT=/home/wts/anaconda3\n",
      "XDG_SESSION_TYPE=x11\n",
      "CONDA_PREFIX=/home/wts/anaconda3\n",
      "GPG_AGENT_INFO=/run/user/1000/gnupg/S.gpg-agent:0:1\n",
      "VSCODE_CODE_CACHE_PATH=/home/wts/.config/Code/CachedData/e4503b30fc78200f846c62cf8091b76ff5547662\n",
      "XAUTHORITY=/run/user/1000/gdm/Xauthority\n",
      "SNAP_CONTEXT=rFv0xLIe4JVRVHAhzG5nDRZm7M8YpuWmHcEdiWsiqWTVMpoQMybN\n",
      "GJS_DEBUG_TOPICS=JS ERROR;JS LOG\n",
      "WINDOWPATH=2\n",
      "project_dir=/home/wts/vscode\n",
      "HOME=/home/wts\n",
      "USERNAME=wts\n",
      "IM_CONFIG_PHASE=1\n",
      "LANG=en_US.UTF-8\n",
      "LS_COLORS=rs=0:di=01;34:ln=01;36:mh=00:pi=40;33:so=01;35:do=01;35:bd=40;33;01:cd=40;33;01:or=40;31;01:mi=00:su=37;41:sg=30;43:ca=30;41:tw=30;42:ow=34;42:st=37;44:ex=01;32:*.tar=01;31:*.tgz=01;31:*.arc=01;31:*.arj=01;31:*.taz=01;31:*.lha=01;31:*.lz4=01;31:*.lzh=01;31:*.lzma=01;31:*.tlz=01;31:*.txz=01;31:*.tzo=01;31:*.t7z=01;31:*.zip=01;31:*.z=01;31:*.dz=01;31:*.gz=01;31:*.lrz=01;31:*.lz=01;31:*.lzo=01;31:*.xz=01;31:*.zst=01;31:*.tzst=01;31:*.bz2=01;31:*.bz=01;31:*.tbz=01;31:*.tbz2=01;31:*.tz=01;31:*.deb=01;31:*.rpm=01;31:*.jar=01;31:*.war=01;31:*.ear=01;31:*.sar=01;31:*.rar=01;31:*.alz=01;31:*.ace=01;31:*.zoo=01;31:*.cpio=01;31:*.7z=01;31:*.rz=01;31:*.cab=01;31:*.wim=01;31:*.swm=01;31:*.dwm=01;31:*.esd=01;31:*.jpg=01;35:*.jpeg=01;35:*.mjpg=01;35:*.mjpeg=01;35:*.gif=01;35:*.bmp=01;35:*.pbm=01;35:*.pgm=01;35:*.ppm=01;35:*.tga=01;35:*.xbm=01;35:*.xpm=01;35:*.tif=01;35:*.tiff=01;35:*.png=01;35:*.svg=01;35:*.svgz=01;35:*.mng=01;35:*.pcx=01;35:*.mov=01;35:*.mpg=01;35:*.mpeg=01;35:*.m2v=01;35:*.mkv=01;35:*.webm=01;35:*.ogm=01;35:*.mp4=01;35:*.m4v=01;35:*.mp4v=01;35:*.vob=01;35:*.qt=01;35:*.nuv=01;35:*.wmv=01;35:*.asf=01;35:*.rm=01;35:*.rmvb=01;35:*.flc=01;35:*.avi=01;35:*.fli=01;35:*.flv=01;35:*.gl=01;35:*.dl=01;35:*.xcf=01;35:*.xwd=01;35:*.yuv=01;35:*.cgm=01;35:*.emf=01;35:*.ogv=01;35:*.ogx=01;35:*.aac=00;36:*.au=00;36:*.flac=00;36:*.m4a=00;36:*.mid=00;36:*.midi=00;36:*.mka=00;36:*.mp3=00;36:*.mpc=00;36:*.ogg=00;36:*.ra=00;36:*.wav=00;36:*.oga=00;36:*.opus=00;36:*.spx=00;36:*.xspf=00;36:\n",
      "XDG_CURRENT_DESKTOP=Unity\n",
      "VSCODE_IPC_HOOK=/run/user/1000/vscode-5f62299e-1.70.2-main.sock\n",
      "VTE_VERSION=6003\n",
      "SNAP_ARCH=amd64\n",
      "SNAP_INSTANCE_NAME=code\n",
      "SNAP_USER_DATA=/home/wts/snap/code/105\n",
      "CONDA_PROMPT_MODIFIER=(base) \n",
      "VSCODE_CLI=1\n",
      "DISABLE_WAYLAND=1\n",
      "PYDEVD_USE_FRAME_EVAL=NO\n",
      "GNOME_TERMINAL_SCREEN=/org/gnome/Terminal/screen/e013f978_ca54_45dd_8e86_6662d4286690\n",
      "INVOCATION_ID=a48ee9faaed945789c0e6cb07aa6687a\n",
      "MANAGERPID=1640\n",
      "SNAP_REEXEC=\n",
      "CHROME_DESKTOP=code-url-handler.desktop\n",
      "posts=/home/wts/vscode/APCSP/_posts\n",
      "GJS_DEBUG_OUTPUT=stderr\n",
      "JPY_PARENT_PID=7326\n",
      "LESSCLOSE=/usr/bin/lesspipe %s %s\n",
      "XDG_SESSION_CLASS=user\n",
      "PYTHONPATH=/home/wts/.vscode/extensions/ms-toolsai.jupyter-2022.7.1102252217/pythonFiles:/home/wts/.vscode/extensions/ms-toolsai.jupyter-2022.7.1102252217/pythonFiles/lib/python\n",
      "TERM=xterm-256color\n",
      "_CE_CONDA=\n",
      "LESSOPEN=| /usr/bin/lesspipe %s\n",
      "USER=wts\n",
      "PYTHONIOENCODING=utf-8\n",
      "notebooks=/home/wts/vscode/APCSP/_notebooks\n",
      "SNAP=/snap/code/105\n",
      "GNOME_TERMINAL_SERVICE=:1.90\n",
      "CONDA_SHLVL=1\n",
      "SNAP_COMMON=/var/snap/code/common\n",
      "SNAP_VERSION=e4503b30\n",
      "DISPLAY=:0\n",
      "VSCODE_PID=6993\n",
      "SHLVL=3\n",
      "GDK_PIXBUF_MODULEDIR=/snap/code/105/usr/lib/x86_64-linux-gnu/gdk-pixbuf-2.0/2.10.0/loaders\n",
      "SNAP_LIBRARY_PATH=/var/lib/snapd/lib/gl:/var/lib/snapd/lib/gl32:/var/lib/snapd/void\n",
      "PAGER=cat\n",
      "SNAP_COOKIE=rFv0xLIe4JVRVHAhzG5nDRZm7M8YpuWmHcEdiWsiqWTVMpoQMybN\n",
      "JUPYTER_PATH=/home/wts/.vscode/extensions/ms-toolsai.jupyter-2022.7.1102252217/temp/jupyter\n",
      "QT_IM_MODULE=ibus\n",
      "project_repo=https://github.com/nighthawkcoders/APCSP.git\n",
      "VSCODE_CWD=/home/wts/vscode\n",
      "SNAP_DATA=/var/snap/code/105\n",
      "CONDA_PYTHON_EXE=/home/wts/anaconda3/bin/python\n",
      "XDG_RUNTIME_DIR=/run/user/1000\n",
      "PS1=[PEXP\\[\\]ECT_PROMPT>\n",
      "CONDA_DEFAULT_ENV=base\n",
      "SNAP_NAME=code\n",
      "ELECTRON_NO_ATTACH_CONSOLE=1\n",
      "JOURNAL_STREAM=8:50375\n",
      "XDG_DATA_DIRS=/usr/share/ubuntu:/usr/local/share/:/usr/share/:/var/lib/snapd/desktop\n",
      "GDK_BACKEND=x11\n",
      "PATH=/home/wts/anaconda3/bin:/home/wts/anaconda3/condabin:/home/wts/.local/bin:/usr/local/sbin:/usr/local/bin:/usr/sbin:/usr/bin:/sbin:/bin:/usr/games:/usr/local/games:/snap/bin\n",
      "GDMSESSION=ubuntu\n",
      "ORIGINAL_XDG_CURRENT_DESKTOP=ubuntu:GNOME\n",
      "DBUS_SESSION_BUS_ADDRESS=unix:path=/run/user/1000/bus\n",
      "VSCODE_NLS_CONFIG={\"locale\":\"en-us\",\"availableLanguages\":{},\"_languagePackSupport\":true}\n",
      "VSCODE_HANDLES_UNCAUGHT_ERRORS=true\n",
      "OLDPWD=/home/wts/vscode/APCSP/_notebooks/images\n",
      "_=/usr/bin/env\n"
     ]
    }
   ],
   "source": [
    "# This command has no dependencies\n",
    "\n",
    "echo \"Show the shell environment variables, key on left of equal value on right\"\n",
    "echo \"\"\n",
    "\n",
    "env"
   ]
  },
  {
   "cell_type": "code",
   "execution_count": 8,
   "metadata": {
    "vscode": {
     "languageId": "shellscript"
    }
   },
   "outputs": [
    {
     "name": "stdout",
     "output_type": "stream",
     "text": [
      "\n",
      "show the secrets of .git\n",
      "total 68\n",
      "drwxrwxr-x  2 wts wts  4096 Aug 23 15:19 \u001b[0m\u001b[01;34mbranches\u001b[0m\n",
      "-rw-rw-r--  1 wts wts   265 Aug 23 15:19 config\n",
      "-rw-rw-r--  1 wts wts    73 Aug 23 15:19 description\n",
      "-rw-rw-r--  1 wts wts   102 Aug 25 14:45 FETCH_HEAD\n",
      "-rw-rw-r--  1 wts wts    23 Aug 23 15:19 HEAD\n",
      "drwxrwxr-x  2 wts wts  4096 Aug 23 15:19 \u001b[01;34mhooks\u001b[0m\n",
      "-rw-rw-r--  1 wts wts 20021 Aug 25 14:44 index\n",
      "drwxrwxr-x  2 wts wts  4096 Aug 23 15:19 \u001b[01;34minfo\u001b[0m\n",
      "drwxrwxr-x  3 wts wts  4096 Aug 23 15:19 \u001b[01;34mlogs\u001b[0m\n",
      "drwxrwxr-x 12 wts wts  4096 Aug 25 14:44 \u001b[01;34mobjects\u001b[0m\n",
      "-rw-rw-r--  1 wts wts    41 Aug 25 14:45 ORIG_HEAD\n",
      "-rw-rw-r--  1 wts wts   271 Aug 23 15:19 packed-refs\n",
      "drwxrwxr-x  5 wts wts  4096 Aug 23 15:19 \u001b[01;34mrefs\u001b[0m\n",
      "\n",
      "look at config file\n",
      "[core]\n",
      "\trepositoryformatversion = 0\n",
      "\tfilemode = true\n",
      "\tbare = false\n",
      "\tlogallrefupdates = true\n",
      "[remote \"origin\"]\n",
      "\turl = https://github.com/nighthawkcoders/APCSP\n",
      "\tfetch = +refs/heads/*:refs/remotes/origin/*\n",
      "[branch \"master\"]\n",
      "\tremote = origin\n",
      "\tmerge = refs/heads/master\n"
     ]
    }
   ],
   "source": [
    "# This command has dependencies on project\n",
    "\n",
    "cd $project\n",
    "\n",
    "echo \"\"\n",
    "echo \"show the secrets of .git\"\n",
    "cd .git\n",
    "ls -l\n",
    "\n",
    "echo \"\"\n",
    "echo \"look at config file\"\n",
    "cat config"
   ]
  },
  {
   "cell_type": "markdown",
   "metadata": {},
   "source": [
    "BASH TUTORIAL THINGS"
   ]
  }
 ],
 "metadata": {
  "kernelspec": {
   "display_name": "Bash",
   "language": "bash",
   "name": "bash"
  },
  "language_info": {
   "codemirror_mode": "shell",
   "file_extension": ".sh",
   "mimetype": "text/x-sh",
   "name": "bash"
  },
  "orig_nbformat": 4,
  "vscode": {
   "interpreter": {
    "hash": "916dbcbb3f70747c44a77c7bcd40155683ae19c65e1c03b4aa3499c5328201f1"
   }
  }
 },
 "nbformat": 4,
 "nbformat_minor": 2
}
