{
 "cells": [
  {
   "cell_type": "markdown",
   "metadata": {},
   "source": [
    "# Big idea 3!\n",
    "> Lesson on Big Idea 3 which includes expressions, strings, psuedocode, and more\n",
    "\n",
    "- toc: true\n",
    "- comments: true\n",
    "- categories: [Week-13,Big-Idea-3]"
   ]
  },
  {
   "cell_type": "markdown",
   "metadata": {},
   "source": [
    "## 3.3 Expressions(Show video 1 and 3)  "
   ]
  },
  {
   "cell_type": "markdown",
   "metadata": {},
   "source": [
    "### Vocab: fill in the blanks  \n",
    "  \n",
    "the symbol for exponent is **  \n",
    "the symbol for addition is +\n",
    "the symbol for subtraction is - \n",
    "the symbol for multiplication is *\n",
    "the symbol for division is / \n",
    "the symbol for modulus is % - does remainder \n",
    "an algorithm is sequence of steps that does a specific task\n",
    "\n",
    "sequencing is an order of steps. selection is doing a specific action based on a condition (like an if statement). iteration is a loop (for, while) just repeats\n",
    "\n"
   ]
  },
  {
   "cell_type": "markdown",
   "metadata": {},
   "source": [
    "Sequencing Practice: the code below does not follow the intended steps below. change the code so that it does so.\n",
    "1. divide value1 by 10(value1 = 5)  \n",
    "2. multiply 2 from the result of the step 1  \n",
    "3. subtract 4 from the result of the step 2\n",
    "4. print the result of step 3"
   ]
  },
  {
   "cell_type": "code",
   "execution_count": 2,
   "metadata": {},
   "outputs": [
    {
     "name": "stdout",
     "output_type": "stream",
     "text": [
      "-3.0\n"
     ]
    }
   ],
   "source": [
    "value1 = 5\n",
    "value2 = value1 / 10\n",
    "value3 = value2 * 2\n",
    "value4 = value3 - 4\n",
    "print(value4)\n"
   ]
  },
  {
   "cell_type": "markdown",
   "metadata": {},
   "source": [
    "Selection/Iteration Practice: Create a function to print ONLY the numbers of numlist that are divisble by 3.  \n",
    "Hint: use the MOD operator (a % b) to find the remainder when a is divided by b."
   ]
  },
  {
   "cell_type": "code",
   "execution_count": 23,
   "metadata": {},
   "outputs": [
    {
     "name": "stdout",
     "output_type": "stream",
     "text": [
      "3 is divisible by 3\n",
      "9 is divisible by 3\n",
      "891 is divisible by 3\n",
      "999 is divisible by 3\n"
     ]
    }
   ],
   "source": [
    "numlist = \"3\",\"4\",\"9\",\"76\",\"891\",\"999\"\n",
    "for num in numlist:\n",
    "    if int(num) % 3 == 0:\n",
    "        print(str(num) + \" is divisible by 3\")\n",
    "        continue\n",
    "    else:\n",
    "        continue\n",
    "\n",
    "\n",
    "\n",
    "\n",
    "\n"
   ]
  },
  {
   "cell_type": "markdown",
   "metadata": {},
   "source": [
    "Homework/Binary Adaptation: Create a python function that will convert a decimal number 1-255 to binary using mathematical operations and powers of 2. Challenge: add frontend with javascript or html."
   ]
  },
  {
   "cell_type": "code",
   "execution_count": 13,
   "metadata": {},
   "outputs": [
    {
     "name": "stdout",
     "output_type": "stream",
     "text": [
      "000000000000000000001\n"
     ]
    }
   ],
   "source": [
    "def convert(dec):\n",
    "    bin = \"\"\n",
    "    i = 20\n",
    "\n",
    "    while i >= 0:\n",
    "        if dec % (2**i) == dec:\n",
    "            bin = bin + \"0\"\n",
    "            i -= 1\n",
    "        else:\n",
    "            bin = bin + \"1\"\n",
    "            dec -= 2**i\n",
    "            i -= 1\n",
    "\n",
    "    print(bin)\n",
    "   \n",
    "convert(1)\n",
    "\n"
   ]
  },
  {
   "cell_type": "markdown",
   "metadata": {},
   "source": [
    "## 3.4 Strings(Show video 1)"
   ]
  },
  {
   "cell_type": "markdown",
   "metadata": {},
   "source": [
    "### Vocab: fill in the blanks using the video\n",
    "Index is a number representing a position, like a character's position in a string or a string's position in a list.  \n",
    "Concatenation is combining two strings  \n",
    "Length is how many characters\n",
    "A substring is a part of a string (certain characters of a string)\n",
    "index: the position of a character in a string or a string in a list. psuedocode starts with one but most start with 0\n"
   ]
  },
  {
   "cell_type": "markdown",
   "metadata": {},
   "source": [
    "### What is psuedocode?\n",
    "Pseudocode is writing out a program in plain language with keywords that are used to refer to common coding concepts.\n",
    "\n",
    "Can you think of some benefits of using pseudocode prior to writing out the actual code?\n",
    "\n",
    "1. Choose an everyday activity\n",
    "2. Imagine that you are providing instructions for this activity to a person who has never done it before\n",
    "3. Challenge someone to do the steps you wrote out\n",
    "\n",
    "MY EXAMPLE: \n",
    "\n",
    "SANDWICH\n",
    "\n",
    "Take two slices of bread out of a bread bag\n",
    "take lettuce, tomatoes, and cheese out of the fridge\n",
    "take mayo out of the fridge\n",
    "put the lettuce, tomatoes, and mayo on a plate but do not mix them. cut into pieces the size of the bread.\n",
    "place one piece of bread\n",
    "place tomatoes on the piece\n",
    "place lettuce on the piece on top of the tomatoes\n",
    "place cheese on the piece on top of the lettuce\n",
    "pour a reasonable amount of mayo on top of the cheese on the piece\n",
    "put the other slice of bread on top\n",
    "eat it\n",
    "\n",
    "Ex. Brushing Teeth\n",
    "\n",
    "1. Pick up your toothbrush\n",
    "2. Rinse toothbrush\n",
    "3. Pick up toothpaste\n",
    "4. Place toothpaste on the toothbrush\n",
    "5. Rinse toothbrush again\n",
    "6. Brush teeth in a circular motion\n",
    "7. Spit\n",
    "8. Wash mouth \n",
    "9. Rinse toothbrush\n",
    "10. You have brushed your teeth!"
   ]
  },
  {
   "cell_type": "markdown",
   "metadata": {},
   "source": [
    "### Substring/Length Practice: change the print functions to print \"hello\", \"bye\", and the string length"
   ]
  },
  {
   "cell_type": "code",
   "execution_count": 5,
   "metadata": {},
   "outputs": [
    {
     "name": "stdout",
     "output_type": "stream",
     "text": [
      "8\n",
      "hello\n",
      "bye\n"
     ]
    }
   ],
   "source": [
    "\n",
    "\n",
    "string = \"hellobye\"\n",
    "print(len(string))\n",
    "print(string[0:5])\n",
    "print(string[5:8])"
   ]
  },
  {
   "cell_type": "markdown",
   "metadata": {},
   "source": [
    "Concatenation Practice: combine string1 and string2 to make string3, then print string3."
   ]
  },
  {
   "cell_type": "code",
   "execution_count": 20,
   "metadata": {},
   "outputs": [
    {
     "name": "stdout",
     "output_type": "stream",
     "text": [
      "computer science\n"
     ]
    }
   ],
   "source": [
    "#string1 + string2 will add string2 to the end of string1\n",
    "\n",
    "string1 = \"computer\"\n",
    "string2 = \" \"\n",
    "string3 = \"science\"\n",
    "string4 = string1 + string2 + string3\n",
    "print(string4)\n",
    "\n",
    "\n"
   ]
  },
  {
   "cell_type": "markdown",
   "metadata": {},
   "source": [
    "Homework/List Adaptation: create a function that prints the name of each string in the list and the string's length. Challenge: add frontend with javascript or html."
   ]
  },
  {
   "cell_type": "code",
   "execution_count": 12,
   "metadata": {},
   "outputs": [
    {
     "name": "stdout",
     "output_type": "stream",
     "text": [
      "yppee: 5\n",
      "yippee: 6\n",
      "doubleyippee: 12\n",
      "yip: 3\n"
     ]
    }
   ],
   "source": [
    "names = [\"yppee\",\"yippee\",\"doubleyippee\",\"yip\"]\n",
    "\n",
    "def length(list):\n",
    "    for name in names:\n",
    "        print(name + \": \" + str(len(name)))\n",
    "\n",
    "length(names)\n"
   ]
  },
  {
   "cell_type": "markdown",
   "metadata": {},
   "source": [
    "# Stuck? \n",
    "- Check out [what we did.](https://raisinbran25.github.io/csp2/2022/11/18/expressions.html)"
   ]
  },
  {
   "cell_type": "markdown",
   "metadata": {},
   "source": [
    "# Have any questions?\n",
    "- Ask us if you have any questions!"
   ]
  }
 ],
 "metadata": {
  "kernelspec": {
   "display_name": "Python 3.10.6 64-bit",
   "language": "python",
   "name": "python3"
  },
  "language_info": {
   "codemirror_mode": {
    "name": "ipython",
    "version": 3
   },
   "file_extension": ".py",
   "mimetype": "text/x-python",
   "name": "python",
   "nbconvert_exporter": "python",
   "pygments_lexer": "ipython3",
   "version": "3.10.6"
  },
  "orig_nbformat": 4,
  "vscode": {
   "interpreter": {
    "hash": "b0fa6594d8f4cbf19f97940f81e996739fb7646882a419484c72d19e05852a7e"
   }
  }
 },
 "nbformat": 4,
 "nbformat_minor": 2
}
