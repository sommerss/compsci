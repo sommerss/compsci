{
 "cells": [
  {
   "attachments": {},
   "cell_type": "markdown",
   "metadata": {},
   "source": [
    "# Model and Object-Oriented Programming\n",
    "> Object Oriented Programming is a part of learning Python.  The objective of this blog is to introduce OOP with the intention of PBL task to create a database.  The foundations for a database is defining a Class and understanding instance data and methods.  A database is often a focus of backend coding as it will store persistent data, that can be recalled after the immediate session is closed.\n",
    "\n",
    "- title: Model and Object-Oriented Programming\n",
    "- toc: true\n",
    "- categories: []\n",
    "- image: /images/python.png\n",
    "- type: pbl\n",
    "- week: 18"
   ]
  },
  {
   "attachments": {},
   "cell_type": "markdown",
   "metadata": {},
   "source": [
    "## Class and Object Terms\n",
    "> The foundations of Object-Oriented Programming is defining a ***Class***  \n",
    "* In Object-Oriented Programming (OOP), a class is a blueprint for creating an ***Object***. (a data structure).  An Object is used like many other Python variables.\n",
    "* A Class has ...\n",
    "    * a collection of data, these are called ***Attributes*** and in Python are pre-fixed using the keyword ***self***\n",
    "    * a collection of Functions/Procedures.  These are called ***Methods** when they exist inside a Class definition.\n",
    "* An Object is created from the Class/Template.  Characteristics of objects ...\n",
    "   * an Object is an ***Instance*** of the Class/Template\n",
    "   * there can be many Objects created from the same Class\n",
    "   * each Object contains its own ***Instance Data***\n",
    "   * the data is setup by the ***Constructor***, this is the \"__init__\" method in a Python class\n",
    "   * all methods in the Class/Template become part of the Object, methods are accessed using ***dot notation*** (object.method())\n",
    "* A Python Class allow for the definition of @ decorators, these allow access to instance data without the use of functions ...\n",
    "    * @property decorator (aka getter).  This enables developers to reference/get instance data in a shorthand fashion (object.name versus object.get_name())\n",
    "    * @name.setter decorator (aka setter).  This enables developers to update/set instance data in a shorthand fashion (object.name = \"John\" versus object.set_name(\"John\"))\n",
    "    * observe all instance data (self._name, self._email ...) are prefixed with \"_\", this convention allows setters and getters to work with more natural variable name (name, email ...)"
   ]
  },
  {
   "cell_type": "markdown",
   "metadata": {},
   "source": [
    "## Class and Object Code"
   ]
  },
  {
   "cell_type": "code",
   "execution_count": 27,
   "metadata": {},
   "outputs": [
    {
     "name": "stdout",
     "output_type": "stream",
     "text": [
      "JSON ready string:\n",
      " {\"category\": \"reporting category\", \"ss\": \"1\", \"cbs\": \"1\", \"comments\": \"very good\"} ----------- {\"category\": \"data abstraction\", \"ss\": \"1\", \"cbs\": \"0\", \"comments\": \"very good\"} ----------- {\"category\": \"managing complexity\", \"ss\": \"1\", \"cbs\": \"0\", \"comments\": \"very good\"} ----------- {\"category\": \"procedural abstraction\", \"ss\": \"1\", \"cbs\": \"0\", \"comments\": \"very good\"} ----------- {\"category\": \"algorithm implementation\", \"ss\": \"1\", \"cbs\": \"1\", \"comments\": \"very good\"} ----------- {\"category\": \"testing\", \"ss\": \"1\", \"cbs\": \"1\", \"comments\": \"very good\"} \n",
      "\n"
     ]
    },
    {
     "ename": "TypeError",
     "evalue": "'type' object is not iterable",
     "output_type": "error",
     "traceback": [
      "\u001b[0;31m---------------------------------------------------------------------------\u001b[0m",
      "\u001b[0;31mTypeError\u001b[0m                                 Traceback (most recent call last)",
      "Cell \u001b[0;32mIn [27], line 89\u001b[0m\n\u001b[1;32m     85\u001b[0m     u6 \u001b[39m=\u001b[39m CPT(category\u001b[39m=\u001b[39m\u001b[39m'\u001b[39m\u001b[39mtesting\u001b[39m\u001b[39m'\u001b[39m, ss\u001b[39m=\u001b[39m\u001b[39m'\u001b[39m\u001b[39m1\u001b[39m\u001b[39m'\u001b[39m, cbs\u001b[39m=\u001b[39m\u001b[39m'\u001b[39m\u001b[39m1\u001b[39m\u001b[39m'\u001b[39m, comments\u001b[39m=\u001b[39m\u001b[39m'\u001b[39m\u001b[39mvery good\u001b[39m\u001b[39m'\u001b[39m)\n\u001b[1;32m     88\u001b[0m \u001b[39mprint\u001b[39m(\u001b[39m\"\u001b[39m\u001b[39mJSON ready string:\u001b[39m\u001b[39m\\n\u001b[39;00m\u001b[39m\"\u001b[39m, u1, \u001b[39m\"\u001b[39m\u001b[39m-----------\u001b[39m\u001b[39m\"\u001b[39m, u2, \u001b[39m\"\u001b[39m\u001b[39m-----------\u001b[39m\u001b[39m\"\u001b[39m, u3, \u001b[39m\"\u001b[39m\u001b[39m-----------\u001b[39m\u001b[39m\"\u001b[39m, u4, \u001b[39m\"\u001b[39m\u001b[39m-----------\u001b[39m\u001b[39m\"\u001b[39m, u5, \u001b[39m\"\u001b[39m\u001b[39m-----------\u001b[39m\u001b[39m\"\u001b[39m, u6, \u001b[39m\"\u001b[39m\u001b[39m\\n\u001b[39;00m\u001b[39m\"\u001b[39m) \n\u001b[0;32m---> 89\u001b[0m \u001b[39mfor\u001b[39;00m k,v \u001b[39min\u001b[39;00m (\u001b[39mdict\u001b[39m):\n\u001b[1;32m     90\u001b[0m     \u001b[39mprint\u001b[39m(k \u001b[39m+\u001b[39m \u001b[39m\"\u001b[39m\u001b[39m  = \u001b[39m\u001b[39m\"\u001b[39m \u001b[39m+\u001b[39m \u001b[39mstr\u001b[39m(v))\n",
      "\u001b[0;31mTypeError\u001b[0m: 'type' object is not iterable"
     ]
    }
   ],
   "source": [
    "\n",
    "from datetime import date\n",
    "import json\n",
    "\n",
    "class CPT:    \n",
    "\n",
    "    def __init__(self, category, ss, cbs, comments):\n",
    "        self._category = category    # variables with self prefix become part of the object, \n",
    "        self._ss = ss\n",
    "        self._cbs = cbs\n",
    "        self._comments = comments\n",
    "    \n",
    "    @property\n",
    "    def category(self):\n",
    "        return self._category\n",
    "    \n",
    "    # a setter function, allows name to be updated after initial object creation\n",
    "    @category.setter\n",
    "    def category(self, category):\n",
    "        self._category = category\n",
    "    \n",
    "    # a getter method, extracts email from object\n",
    "    @property\n",
    "    def ss(self):\n",
    "        return self._ss\n",
    "    \n",
    "    # a setter function, allows name to be updated after initial object creation\n",
    "    @ss.setter\n",
    "    def ss(self, ss):\n",
    "        self._ss = ss\n",
    "        \n",
    "    # check if uid parameter matches user id in object, return boolean\n",
    "    def is_ss(self, ss):\n",
    "        return self._ss == ss\n",
    "\n",
    "    @property\n",
    "    def cbs(self):\n",
    "        return self._cbs\n",
    "    \n",
    "    # a setter function, allows name to be updated after initial object creation\n",
    "    @cbs.setter\n",
    "    def cbs(self, cbs):\n",
    "        self._cbs = cbs\n",
    "        \n",
    "    # check if uid parameter matches user id in object, return boolean\n",
    "    def is_cbs(self, cbs):\n",
    "        return self._cbs == cbs\n",
    "    \n",
    "    @property\n",
    "    def comments(self):\n",
    "        return self._comments\n",
    "    \n",
    "    # a setter function, allows classOf to be updated after initial object creation\n",
    "    @comments.setter\n",
    "    def comments(self, comments):\n",
    "        self._comments = comments\n",
    "    \n",
    "    # dictionary is customized, removing password for security purposes\n",
    "    @property\n",
    "    def dictionary(self):\n",
    "        dict = {\n",
    "            \"category\" : self.category,\n",
    "            \"ss\" : self.ss,\n",
    "            \"cbs\" : self.cbs,\n",
    "            \"comments\" : self.comments\n",
    "        }\n",
    "        return dict\n",
    "    \n",
    "    \n",
    "    \n",
    "    # output content using json dumps, this is ready for API response\n",
    "    def __str__(self):\n",
    "        return json.dumps(self.dictionary)\n",
    "    \n",
    "    # output command to recreate the object, uses attribute directly\n",
    "    def __repr__(self):\n",
    "        return f'CPT(category={self._category}, ss={self._ss}, cbs={self._cbs},comments={self._comments})'\n",
    "    \n",
    "\n",
    "if __name__ == \"__main__\":\n",
    "    u1 = CPT(category='reporting category', ss='1', cbs='1', comments='very good')\n",
    "    u2 = CPT(category='data abstraction', ss='1', cbs='0', comments='very good')\n",
    "    u3 = CPT(category='managing complexity', ss='1', cbs='0', comments='very good')\n",
    "    u4 = CPT(category='procedural abstraction', ss='1', cbs='0', comments='very good')\n",
    "    u5 = CPT(category='algorithm implementation', ss='1', cbs='1', comments='very good')\n",
    "    u6 = CPT(category='testing', ss='1', cbs='1', comments='very good')\n",
    "\n",
    "    \n",
    "print(\"JSON ready string:\\n\", u1, \"-----------\", u2, \"-----------\", u3, \"-----------\", u4, \"-----------\", u5, \"-----------\", u6, \"\\n\") \n",
    "for k,v in (dict):\n",
    "    print(k + \"  = \" + str(v))\n",
    "\n",
    "    "
   ]
  },
  {
   "attachments": {},
   "cell_type": "markdown",
   "metadata": {},
   "source": [
    "class = user\n",
    "u1 = object and will have all features we set up for class"
   ]
  },
  {
   "cell_type": "markdown",
   "metadata": {},
   "source": []
  },
  {
   "attachments": {},
   "cell_type": "markdown",
   "metadata": {},
   "source": [
    "## Hacks\n",
    "> Add new attributes/variables to the Class.  Make class specific to your CPT work.\n",
    "- Add classOf attribute to define year of graduation\n",
    "    - Add setter and getter for classOf\n",
    "- Add dob attribute to define date of birth\n",
    "    - This will require investigation into Python datetime objects as shown in example code below\n",
    "    - Add setter and getter for dob\n",
    "- Add instance variable for age, make sure if dob changes age changes\n",
    "    - Add getter for age, but don't add/allow setter for age\n",
    "- Update and format tester function to work with changes\n",
    "\n",
    "> Start a class design for each of your own Full Stack CPT sections of your project\n",
    "- Use new `code cell` in this notebook\n",
    "- Define _init_ and self attributes\n",
    "- Define setters and getters\n",
    "- Make a tester"
   ]
  },
  {
   "cell_type": "markdown",
   "metadata": {},
   "source": [
    "## Start Code for Hacks"
   ]
  },
  {
   "cell_type": "code",
   "execution_count": 2,
   "metadata": {},
   "outputs": [
    {
     "name": "stdout",
     "output_type": "stream",
     "text": [
      "16\n"
     ]
    }
   ],
   "source": [
    "from datetime import date\n",
    "\n",
    "\n",
    "def calculate_age(born):\n",
    "    today = date.today()\n",
    "    return today.year - born.year - ((today.month, today.day) < (born.month, born.day))\n",
    "\n",
    "dob = date(2006, 8, 7)\n",
    "age = calculate_age(dob)\n",
    "print(age)"
   ]
  },
  {
   "attachments": {},
   "cell_type": "markdown",
   "metadata": {},
   "source": [
    "MY GAME FEATURES: master mind game:\n",
    "\n",
    "-for() loops to create grid of circles\n",
    "-if() statements to determine if all four markers are placed\n",
    "-if() statements to determine if input sequence is correct\n",
    "-random color variables are assigned new values depending on sequence input\n",
    "-randomly generated sequence"
   ]
  }
 ],
 "metadata": {
  "kernelspec": {
   "display_name": "Python 3",
   "language": "python",
   "name": "python3"
  },
  "language_info": {
   "codemirror_mode": {
    "name": "ipython",
    "version": 3
   },
   "file_extension": ".py",
   "mimetype": "text/x-python",
   "name": "python",
   "nbconvert_exporter": "python",
   "pygments_lexer": "ipython3",
   "version": "3.10.9"
  },
  "orig_nbformat": 4,
  "vscode": {
   "interpreter": {
    "hash": "b0fa6594d8f4cbf19f97940f81e996739fb7646882a419484c72d19e05852a7e"
   }
  }
 },
 "nbformat": 4,
 "nbformat_minor": 2
}
