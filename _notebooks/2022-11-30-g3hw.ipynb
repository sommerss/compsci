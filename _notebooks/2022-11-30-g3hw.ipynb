{
 "cells": [
  {
   "cell_type": "markdown",
   "metadata": {},
   "source": [
    "# Homework \n",
    "\n",
    "- toc: true\n",
    "- badges: true\n",
    "- comments: true\n",
    "- categories: [Week 13]"
   ]
  },
  {
   "cell_type": "markdown",
   "metadata": {},
   "source": [
    "## Homework/Hacks\n",
    "\n",
    " our homework we have decided for a decimal number to binary converter. You must use conditional statements within your code and have a input box for where the decimal number will go. This will give you a 2.7 out of 3 and you may add anything else to the code to get above a 2.7.\n",
    "\n"
   ]
  },
  {
   "cell_type": "markdown",
   "metadata": {},
   "source": [
    "booleans have 2 possible values (like binary), but true is 1 and false is 0. can produce boolean value with boolean operator. boolean operators produce booleans after it is used between two values. there are two main types of operators: relationional and logical operators. relationals can work between any two values of the same type (operands)\n",
    "\n",
    "equal to ==\n",
    "operators\n",
    "\n",
    "==, !=, <,>,>=,<=\n",
    "can also work such as string or list- values at each index compard in order to determine which is greater- ex abg< acd returns true because acd has more letters at the first part of the alphabet. \n",
    "\n",
    "logical operators produce single boolean result. examples = and, or, not\n",
    "and returns true when both are true. or returns true when at least one is true. not returns true when the boolean after it is false. \n",
    "\n",
    "relational operators go first. logical operators work in \"not, and, or\" order. parenthesis take precedence. "
   ]
  },
  {
   "cell_type": "markdown",
   "metadata": {},
   "source": [
    "conditionals:\n",
    "\n",
    "algorithm = set of instructions that accomplish a task\n",
    "selection = the process that determines which parts of an algorithm is being executed based on a condition that is true or false. \n",
    "\n",
    "conditional is a statement that affects the outcome of a program by executing different statements baased on the result of a true or false statement (the true and false statement is a boolean expression)\n",
    "conditionals appear in almost every programming language. they are used by a programs selection process.\n",
    "\n",
    "if else statements fill in the role of the conditional (some languages call it switch blocks)\n",
    "\n",
    "they can also just be if statements (more as an interruption)\n"
   ]
  },
  {
   "cell_type": "markdown",
   "metadata": {},
   "source": [
    "nested conditionals\n",
    "\n",
    "nested conditional statements are conditional statements with their own conditional statements. \n",
    "\n",
    "for example\n",
    "\n",
    "if condition one = yes, there is a condition 2. if condition 2 is yes there is one statement, if it is no there is another. if the first condition is no, there is no second condition. "
   ]
  },
  {
   "cell_type": "code",
   "execution_count": 2,
   "metadata": {},
   "outputs": [
    {
     "name": "stdout",
     "output_type": "stream",
     "text": [
      "you literally suck at math . what is wrong with you\n",
      "boo\n"
     ]
    }
   ],
   "source": [
    "mathgrade = 50; \n",
    "isgoodatmath = False\n",
    "isbadatmath= True\n",
    "if mathgrade <= 50: \n",
    "    print(\"you literally suck at math . what is wrong with you\"); \n",
    "    if (isgoodatmath): \n",
    "        print(\"wooow\"); \n",
    "    if (isbadatmath): \n",
    "        print(\"boo\"); \n"
   ]
  },
  {
   "cell_type": "markdown",
   "metadata": {},
   "source": [
    "Below is an example of decimal number to binary converter which you can use as a starting template."
   ]
  },
  {
   "cell_type": "code",
   "execution_count": 3,
   "metadata": {},
   "outputs": [
    {
     "name": "stdout",
     "output_type": "stream",
     "text": [
      "Binary of num 67 is: 1000011\n"
     ]
    }
   ],
   "source": [
    "def DecimalToBinary(num):\n",
    "    strs = \"\"\n",
    "    while num:\n",
    "        # if (num & 1) = 1\n",
    "        if (num & 1):\n",
    "            strs += \"1\"\n",
    "        # if (num & 1) = 0\n",
    "        else:\n",
    "            strs += \"0\"\n",
    "        # right shift by 1\n",
    "        num >>= 1\n",
    "    return strs\n",
    " \n",
    "# function to reverse the string\n",
    "def reverse(strs):\n",
    "    print(strs[::-1])\n",
    " \n",
    "# Driver Code\n",
    "num = 67\n",
    "print(\"Binary of num 67 is:\", end=\" \")\n",
    "reverse(DecimalToBinary(num))"
   ]
  },
  {
   "cell_type": "markdown",
   "metadata": {},
   "source": [
    "MINE IS BELOW"
   ]
  },
  {
   "cell_type": "code",
   "execution_count": 17,
   "metadata": {},
   "outputs": [
    {
     "name": "stdout",
     "output_type": "stream",
     "text": [
      "110010"
     ]
    }
   ],
   "source": [
    "\n",
    "def decToBinary(n):\n",
    "     \n",
    "    binaryNum = [0] * n;\n",
    " \n",
    "\n",
    "    i = 0;\n",
    "    while (n > 0):\n",
    " \n",
    "       \n",
    "        binaryNum[i] = n % 2;\n",
    "        n = int(n / 2);\n",
    "        i += 1;\n",
    " \n",
    "   \n",
    "    for j in range(i - 1, -1, -1):\n",
    "        print(binaryNum[j], end = \"\");\n",
    " \n",
    "\n",
    "n = 50;\n",
    "\n",
    "decToBinary(n);\n",
    "\n",
    "\n",
    "\n",
    "\n"
   ]
  },
  {
   "cell_type": "code",
   "execution_count": 19,
   "metadata": {},
   "outputs": [
    {
     "name": "stdout",
     "output_type": "stream",
     "text": [
      "1111101000"
     ]
    }
   ],
   "source": [
    "def decToBinary(m):\n",
    "     \n",
    "    binaryNum = [0] * m;\n",
    " \n",
    "\n",
    "    i = 0;\n",
    "    while (m > 0):\n",
    " \n",
    "       \n",
    "        binaryNum[i] = m % 2;\n",
    "        m = int(m / 2);\n",
    "        i += 1;\n",
    " \n",
    "   \n",
    "    for j in range(i - 1, -1, -1):\n",
    "        print(binaryNum[j], end = \"\");\n",
    " \n",
    "\n",
    "m = n * 20;\n",
    "decToBinary(m);\n"
   ]
  }
 ],
 "metadata": {
  "kernelspec": {
   "display_name": "Python 3.9.6 64-bit",
   "language": "python",
   "name": "python3"
  },
  "language_info": {
   "codemirror_mode": {
    "name": "ipython",
    "version": 3
   },
   "file_extension": ".py",
   "mimetype": "text/x-python",
   "name": "python",
   "nbconvert_exporter": "python",
   "pygments_lexer": "ipython3",
   "version": "3.8.9"
  },
  "orig_nbformat": 4,
  "vscode": {
   "interpreter": {
    "hash": "31f2aee4e71d21fbe5cf8b01ff0e069b9275f58929596ceb00d14d90e3e16cd6"
   }
  }
 },
 "nbformat": 4,
 "nbformat_minor": 2
}
