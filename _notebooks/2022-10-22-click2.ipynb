{
 "cells": [
  {
   "cell_type": "code",
   "execution_count": null,
   "metadata": {},
   "outputs": [],
   "source": [
    "import turtle\n",
    "\n",
    "wn = turtle.Screen()\n",
    "wn.title(\"bean click\")\n",
    "wn.bgcolor(\"white\")\n",
    "\n",
    "wn.register_shape(\"beancan.gif\")\n",
    "\n",
    "bean = turtle.Turtle()\n",
    "bean.shape(\"bean.gif\")\n",
    "bean.speed(0)\n",
    "\n",
    "clicks = 0\n",
    "\n",
    "pen = turtle.Turtle()\n",
    "pen.hideturtle()\n",
    "pen.color(\"green\")\n",
    "pen.penup()\n",
    "pen.goto(0, 400)\n",
    "pen.write(f\"Clicks: {clicks}\", align=\"center\", font=(\"Comic Sans\", 38, \"normal\"))\n",
    "\n",
    "def clicked(x, y):\n",
    "    global clicks\n",
    "    clicks += 1\n",
    "    pen.clear()\n",
    "    pen.write(f\"Clicks: {clicks}\", align=\"center\", font=(\"Comic Sans\", 50, \"normal\"))\n",
    "    \n",
    "bean.onclick(clicked)\n",
    "\n",
    "wn.mainloop()"
   ]
  }
 ],
 "metadata": {
  "kernelspec": {
   "display_name": "Python 3.10.6 64-bit",
   "language": "python",
   "name": "python3"
  },
  "language_info": {
   "name": "python",
   "version": "3.10.6"
  },
  "orig_nbformat": 4,
  "vscode": {
   "interpreter": {
    "hash": "b0fa6594d8f4cbf19f97940f81e996739fb7646882a419484c72d19e05852a7e"
   }
  }
 },
 "nbformat": 4,
 "nbformat_minor": 2
}
