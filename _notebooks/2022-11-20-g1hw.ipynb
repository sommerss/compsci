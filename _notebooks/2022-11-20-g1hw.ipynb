{
 "cells": [
  {
   "attachments": {},
   "cell_type": "markdown",
   "metadata": {},
   "source": [
    "# unit 3 lesson 1-2!\n",
    "> lesson 1-2 stuff\n",
    "\n",
    "\n",
    "- toc: true\n",
    "- comments: true\n",
    "- categories: [Week-13,Big-Idea-3]"
   ]
  },
  {
   "cell_type": "markdown",
   "metadata": {},
   "source": [
    "NOTES\n",
    "\n",
    "## PYTHON\n",
    "\n",
    "variables\n",
    "\n",
    "represent a value with a variable- strings, lists, booleans, numbers\n",
    "determine the value of a variable by using an assignment\n",
    "\n",
    "use equal sign to define a variable (with number, string, list, boolean) strings need quotations and lists need square brackets\n",
    "\n",
    "you can use append for lists. mathematical functions can be performed on variables w numerical value\n",
    "\n",
    "curly brackets and equal sign defines a dictionary\n",
    "\n",
    "interchange variables by using a temporary variable \n",
    "\n",
    "even function- can determine if variable is even or add- use variables with functions. use def to define function. \n",
    "\n",
    "## JAVASCRIPT\n",
    "\n",
    "use var to assign variables \n",
    "using numbers can help with algabraic functions\n",
    "can also use const ___ = value\n",
    "let ____ = _____\n",
    "\n",
    "can also use string (letters that form words)\n",
    "list contains multiple data points\n",
    "\n",
    "console log connects to data abstraction- data points can be pulled from lists"
   ]
  },
  {
   "cell_type": "markdown",
   "metadata": {},
   "source": []
  },
  {
   "cell_type": "markdown",
   "metadata": {},
   "source": [
    "\n",
    "\n",
    "- toc: true\n",
    "- comments: true\n",
    "- categories: [Week-13,Big-Idea-3]"
   ]
  },
  {
   "cell_type": "markdown",
   "metadata": {},
   "source": [
    "DATA ABSTRACTION\n",
    "\n",
    "provides seperation between abstract proprerties of a data type and the concrete details of its representation. manages complexity in programs by giving collection of data a name. makes it easier to implement, develop, maintain code. lists allow multiple related values to be treated as one value.\n",
    "\n",
    "\n",
    "## PYTHON \n",
    "\n",
    "lists can be used to organize, maintain, develop related data\n",
    "\n",
    "a list of students in a class would be under one variable- helps organize data and make less mistakes\n",
    "\n",
    "you can further segregate a list using similar characteristics. you can also use this to organize data from apis and other resources. you can call and seperate and organize individual elements of a list by using a for loop\n",
    "split() splits a string into a list (default seperator is a white space)\n",
    "join() method takes all items iterable and joins them into a string. \n",
    "\n",
    "\n",
    "\n"
   ]
  },
  {
   "cell_type": "code",
   "execution_count": 56,
   "metadata": {
    "vscode": {
     "languageId": "shellscript"
    }
   },
   "outputs": [
    {
     "name": "stdout",
     "output_type": "stream",
     "text": [
      "Playing \"Pulling the Rug\" from album \"More Mayhem\"\n"
     ]
    }
   ],
   "source": [
    "albums = [\n",
    "    (\"Welcome to my Nightmare\", \"Alice Cooper\", 1975,   # First album list\n",
    "     [\n",
    "         (1, \"Welcome to my Nightmare\"),\n",
    "         (2, \"Devil's Food\"),\n",
    "         (3, \"The Black Widow\"),\n",
    "         (4, \"Some Folks\"),\n",
    "         (5, \"Only Women Bleed\"),\n",
    "     ]\n",
    "     ),\n",
    "    (\"Bad Company\", \"Bad Company\", 1974,   # Second album list\n",
    "     [\n",
    "         (1, \"Can't Get Enough\"),\n",
    "         (2, \"Rock Steady\"),\n",
    "         (3, \"Ready for Love\"),\n",
    "         (4, \"Don't Let Me Down\"),\n",
    "         (5, \"Bad Company\"),\n",
    "         (6, \"The Way I Choose\"),\n",
    "         (7, \"Movin' On\"),\n",
    "         (8, \"Seagull\"),\n",
    "     ]\n",
    "     ),\n",
    "    (\"Nightflight\", \"Budgie\", 1981,\n",
    "     [\n",
    "         (1, \"I Turned to Stone\"),\n",
    "         (2, \"Keeping a Rendezvous\"),\n",
    "         (3, \"Reaper of the Glory\"),\n",
    "         (4, \"She Used Me Up\"),\n",
    "     ]\n",
    "     ),\n",
    "    (\"More Mayhem\", \"Imelda May\", 2011,\n",
    "     [\n",
    "         (1, \"Pulling the Rug\"),\n",
    "         (2, \"Psycho\"),\n",
    "         (3, \"Mayhem\"),\n",
    "         (4, \"Kentish Town Waltz\"),\n",
    "     ]\n",
    "     ),\n",
    "\n",
    "]\n",
    "\n",
    "\n",
    "\n",
    "album_id = int(input(\"album?\"))\n",
    "song_id = int(input(\"song?\"))\n",
    "\n",
    "print(\"playing \\\"{0}\\\" from album \\\"{1}\\\"\".format(albums[album_id-1][3][song_id-1][1],albums[album_id-1][0]))\n",
    "\n",
    "\n",
    "\n",
    "\n",
    "\n",
    "\n",
    "\n",
    "\n",
    "\n",
    "\n",
    "\n",
    "\n",
    "\n",
    "\n"
   ]
  },
  {
   "cell_type": "markdown",
   "metadata": {},
   "source": []
  },
  {
   "cell_type": "markdown",
   "metadata": {},
   "source": [
    "n = input()\n",
    "print(\"playing....\" + albums[int(n)][0])\n",
    "\n",
    "\n",
    "\n",
    "\n",
    "index = 0\n",
    "while index < len(albums):\n",
    "    print(albums[index][0][int(n)], albums[index][3][int(n)])\n",
    "    index += 0"
   ]
  }
 ],
 "metadata": {
  "kernelspec": {
   "display_name": "Python 3.8.9 64-bit",
   "language": "python",
   "name": "python3"
  },
  "language_info": {
   "codemirror_mode": {
    "name": "ipython",
    "version": 3
   },
   "file_extension": ".py",
   "mimetype": "text/x-python",
   "name": "python",
   "nbconvert_exporter": "python",
   "pygments_lexer": "ipython3"
  },
  "varInspector": {
   "cols": {
    "lenName": 16,
    "lenType": 16,
    "lenVar": 40
   },
   "kernels_config": {
    "python": {
     "delete_cmd_postfix": "",
     "delete_cmd_prefix": "del ",
     "library": "var_list.py",
     "varRefreshCmd": "print(var_dic_list())"
    },
    "r": {
     "delete_cmd_postfix": ") ",
     "delete_cmd_prefix": "rm(",
     "library": "var_list.r",
     "varRefreshCmd": "cat(var_dic_list()) "
    }
   },
   "types_to_exclude": [
    "module",
    "function",
    "builtin_function_or_method",
    "instance",
    "_Feature"
   ],
   "window_display": false
  },
  "vscode": {
   "interpreter": {
    "hash": "31f2aee4e71d21fbe5cf8b01ff0e069b9275f58929596ceb00d14d90e3e16cd6"
   }
  }
 },
 "nbformat": 4,
 "nbformat_minor": 4
}
