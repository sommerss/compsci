{
 "cells": [
  {
   "attachments": {},
   "cell_type": "markdown",
   "metadata": {},
   "source": [
    "# Unit 3.15 Random Values Student Copy\n",
    "> Here is our lesson about random values! yay!\n",
    "\n",
    "- toc: true\n",
    "- comments: true\n",
    "- categories: [Week-13,Big-Idea-3]\n",
    "- image: /images/college-board-logo.png"
   ]
  },
  {
   "attachments": {},
   "cell_type": "markdown",
   "metadata": {},
   "source": [
    "Purpose/Objectives: Teach student how to implement randomness into their code to make their code simulate real life situations. \n",
    "\n",
    "In this lesson students will learn:\n",
    "- How to import random to python\n",
    "- How to use random with a list or number range \n",
    "- How to code randomness in everyday scenarios"
   ]
  },
  {
   "attachments": {},
   "cell_type": "markdown",
   "metadata": {},
   "source": [
    "ADD YOUR ADDITIONAL NOTES HERE:\n",
    "\n",
    "import random to be able to use the feature (its a package)\n",
    "random.randint(number,number) to make a range of numbers \n",
    "it can pick a random item from a list because it assigns a number to each item on the list \n"
   ]
  },
  {
   "attachments": {},
   "cell_type": "markdown",
   "metadata": {},
   "source": [
    "## What are Random Values?"
   ]
  },
  {
   "attachments": {},
   "cell_type": "markdown",
   "metadata": {},
   "source": [
    "Random Values are a number generated using a large set of numbers and a mathematical algorithm which gives equal probability to all number occuring"
   ]
  },
  {
   "attachments": {},
   "cell_type": "markdown",
   "metadata": {},
   "source": [
    "Each Result from randomization is equally likely to occur\n",
    "Using random number generation in a program means each execution may produce a different result"
   ]
  },
  {
   "attachments": {},
   "cell_type": "markdown",
   "metadata": {},
   "source": [
    "What are Examples of Random outputs in the world?  Add a few you can think of. \n",
    "- Ex: Marbles\n",
    "-dice \n",
    "-coin flipping\n"
   ]
  },
  {
   "attachments": {},
   "cell_type": "markdown",
   "metadata": {},
   "source": [
    "## Why do we need Random Values for code?"
   ]
  },
  {
   "attachments": {},
   "cell_type": "markdown",
   "metadata": {},
   "source": [
    "Random values can be used in coding:\n",
    "- "
   ]
  },
  {
   "cell_type": "code",
   "execution_count": 22,
   "metadata": {},
   "outputs": [
    {
     "name": "stdout",
     "output_type": "stream",
     "text": [
      "30\n"
     ]
    }
   ],
   "source": [
    "import random\n",
    "random_number = random.randint(1,100)\n",
    "print(random_number)"
   ]
  },
  {
   "cell_type": "code",
   "execution_count": 1,
   "metadata": {},
   "outputs": [
    {
     "name": "stdout",
     "output_type": "stream",
     "text": [
      "cherry\n"
     ]
    }
   ],
   "source": [
    "import random\n",
    "def randomlist():\n",
    "    list = [\"apple\", \"banana\", \"cherry\", \"blueberry\"]\n",
    "    element = random.choice(list)\n",
    "    print(element)\n",
    "randomlist()"
   ]
  },
  {
   "attachments": {},
   "cell_type": "markdown",
   "metadata": {},
   "source": [
    "Real Life Examples:\n",
    "Dice Roll"
   ]
  },
  {
   "cell_type": "code",
   "execution_count": 2,
   "metadata": {},
   "outputs": [
    {
     "name": "stdout",
     "output_type": "stream",
     "text": [
      "Roll 1:4\n",
      "Roll 2:5\n",
      "Roll 3:1\n"
     ]
    }
   ],
   "source": [
    "import random\n",
    "for i in range(3):\n",
    "    roll = random.randint(1,6)\n",
    "    print(\"Roll \" + str(i + 1) + \":\" + str(roll))"
   ]
  },
  {
   "attachments": {},
   "cell_type": "markdown",
   "metadata": {},
   "source": [
    "## Challenge #1\n",
    "Write a function that will a simulate a coinflip and print the output"
   ]
  },
  {
   "cell_type": "code",
   "execution_count": 4,
   "metadata": {},
   "outputs": [
    {
     "name": "stdout",
     "output_type": "stream",
     "text": [
      "heads\n"
     ]
    }
   ],
   "source": [
    "def coinflip():\n",
    "    thecoins = [\"heads\", \"tails\"]\n",
    "    \n",
    "    randomsolution = random.randint(0,1)\n",
    "    print(thecoins[randomsolution])\n",
    "coinflip()\n",
    "    \n",
    "\n",
    "\n",
    "       "
   ]
  },
  {
   "attachments": {},
   "cell_type": "markdown",
   "metadata": {},
   "source": [
    "EXTRA: Create a function that will randomly select 5 playing Cards and check if the 5 cards are a Royal Flush"
   ]
  },
  {
   "attachments": {},
   "cell_type": "markdown",
   "metadata": {},
   "source": [
    "## Homework\n",
    "Given a random decimal number convert it into binary\n",
    "as Extra convert it to hexidecimal as well. "
   ]
  },
  {
   "cell_type": "code",
   "execution_count": 8,
   "metadata": {},
   "outputs": [
    {
     "name": "stdout",
     "output_type": "stream",
     "text": [
      "121\n",
      "1111001"
     ]
    }
   ],
   "source": [
    "import random\n",
    "def decToBinary(n):\n",
    "     \n",
    "    binaryNum = [0] * n;\n",
    " \n",
    "\n",
    "    i = 0;\n",
    "    while (n > 0):\n",
    " \n",
    "       \n",
    "        binaryNum[i] = n % 2;\n",
    "        n = int(n / 2);\n",
    "        i += 1;\n",
    " \n",
    "   \n",
    "    for j in range(i - 1, -1, -1):\n",
    "        print(binaryNum[j], end = \"\");\n",
    " \n",
    "\n",
    "n = random.randint(0,200);\n",
    "print(n)\n",
    "decToBinary(n);"
   ]
  },
  {
   "cell_type": "code",
   "execution_count": 2,
   "metadata": {},
   "outputs": [
    {
     "name": "stdout",
     "output_type": "stream",
     "text": [
      "2-2-2022 is the date you chose\n",
      "7-18-2022 is the randomized date\n",
      "the difference between these two dates is 166 days\n"
     ]
    }
   ],
   "source": [
    "from datetime import date\n",
    "import random\n",
    "import math\n",
    "\n",
    "days_dictionary = {\n",
    "    1: 31,\n",
    "    2: 28,\n",
    "    3: 31,\n",
    "    4: 30,\n",
    "    5: 31,\n",
    "    6: 30,\n",
    "    7: 31,\n",
    "    8: 31,\n",
    "    9: 30,\n",
    "    10: 31,\n",
    "    11: 30,\n",
    "    12: 31,\n",
    "}\n",
    "\n",
    "day = int(input(\"give a day!\"))\n",
    "month = int(input(\"give a month!\"))\n",
    "year = int(input(\"give a year!\"))\n",
    "thedate = str(month) + \"-\" + str(day) + \"-\" + str(year)\n",
    "print(thedate + \" is the date you chose\")\n",
    "\n",
    "randommonth = random.randint(1,12)\n",
    "RDO = days_dictionary.get(randommonth)\n",
    "randomday = random.randint(0,RDO)\n",
    "USD = str(randommonth) + \"-\" + str(randomday) + \"-\" + str(year)\n",
    "print(USD + \" is the randomized date\")\n",
    "\n",
    "def difdays(month, day):\n",
    "    dif = 0\n",
    "\n",
    "    for i in range(1,month):\n",
    "        dif += (days_dictionary.get(i))\n",
    "\n",
    "    dif += day\n",
    "    return(dif)\n",
    "\n",
    "givendays = difdays(month, day)\n",
    "randomdays = difdays(randommonth, randomday)\n",
    "x = abs(randomdays-givendays)\n",
    "print(\"the difference between these two dates is \" + str(x) + \" days\")"
   ]
  },
  {
   "attachments": {},
   "cell_type": "markdown",
   "metadata": {},
   "source": [
    "## CHALLENGE 2 I THINK \n",
    "\n",
    "![]({{site.baseurl}}/images/turtle.png)"
   ]
  },
  {
   "attachments": {},
   "cell_type": "markdown",
   "metadata": {},
   "source": [
    "# Libraries\n",
    "Okay, so we've learned a lot of code, and all of you now can boast that you can code at least some basic programs in python. But, what about more advanced stuff? What if there's a more advanced program you don't know how to make? Do you need to make it yourself? Well, not always. \n",
    "\n",
    "You've already learned about FUNCTIONS that you can write to reuse in your code in previous lessons. But,there are many others who code in python just like you. So why would you do again what someone has already done, and is available for any python user? \n",
    "\n",
    "PACKAGES allow a python user to import METHODS from a LIBRARY, and use the methods in their code. Most libraries come with DOCUMENTATION on the different methods they entail and how to use them, and they can be found with a quick GOOGLE SEARCH. methods are used with the following: \n",
    "\n",
    "#### Note: a method from a package can only be used after the import statement. \n",
    "\n",
    "Some libraries are always installed, such as those with the LIST methods which we have previously discussed. But others require a special python keyword called IMPORT. We will learn different ways to IMPORT in Challenge 1.\n",
    "\n",
    "Sometimes we only need to import a single METHOD from the package. We can do that with the word FROM, followed by the package name, then the word IMPORT, then the method. This will alllow you to use the method without mentioning the package's name, unlike what we did before, however other methods from that package cannot be used. To get the best of both worlds you can use \"*\"\n",
    "\n",
    "To import a method as an easier name, just do what we did first, add the word AS, and write the name you would like to use that package as."
   ]
  },
  {
   "cell_type": "code",
   "execution_count": 1,
   "metadata": {},
   "outputs": [
    {
     "name": "stdout",
     "output_type": "stream",
     "text": [
      "2\n"
     ]
    }
   ],
   "source": [
    "import random as rd\n",
    "print(rd.randint(0,5))"
   ]
  },
  {
   "cell_type": "code",
   "execution_count": 3,
   "metadata": {},
   "outputs": [
    {
     "name": "stdout",
     "output_type": "stream",
     "text": [
      "False\n"
     ]
    }
   ],
   "source": [
    "import math \n",
    "x = math.isclose(2,10)\n",
    "print(x)"
   ]
  },
  {
   "cell_type": "code",
   "execution_count": 4,
   "metadata": {},
   "outputs": [
    {
     "name": "stdout",
     "output_type": "stream",
     "text": [
      "when you round up a you get 2\n",
      "when you round up b you get 4\n",
      "when you round down a you get 2\n",
      "when you round down b you get 4\n",
      "the least common multiple of a and b rounded down is... 4\n",
      "the greatest common denominator of a and b rounded up is... 2\n",
      "the factorial of a is 2\n",
      "the factorial of b is 24\n",
      "are a and b close? (within 0.9) False\n"
     ]
    }
   ],
   "source": [
    "import math \n",
    "from math import *\n",
    "a = float(input(\"give a number!\"))\n",
    "b = float(input(\"give a second number!\"))\n",
    "print(\"when you round up a you get\" + \" \" + str(ceil(a)))\n",
    "print(\"when you round up b you get\" + \" \" + str(ceil(b)))\n",
    "print(\"when you round down a you get\" + \" \" + str(floor(a)))\n",
    "print(\"when you round down b you get\" + \" \" + str(floor(b)))\n",
    "print(\"the least common multiple of a and b rounded down is...\" + \" \" + str(lcm(floor(a), floor(b))))\n",
    "print(\"the greatest common denominator of a and b rounded up is...\" + \" \" + str(gcd(ceil(a), ceil(b))))\n",
    "print(\"the factorial of a is \" + str(factorial(floor(a))))\n",
    "print(\"the factorial of b is \" + str(factorial(floor(b))))\n",
    "print(\"are a and b close? (within 0.9) \" + str(isclose(floor(a), floor(b))))\n",
    "\n"
   ]
  }
 ],
 "metadata": {
  "kernelspec": {
   "display_name": "Python 3.10.6 64-bit",
   "language": "python",
   "name": "python3"
  },
  "language_info": {
   "codemirror_mode": {
    "name": "ipython",
    "version": 3
   },
   "file_extension": ".py",
   "mimetype": "text/x-python",
   "name": "python",
   "nbconvert_exporter": "python",
   "pygments_lexer": "ipython3",
   "version": "3.10.6 (main, Aug 30 2022, 04:58:14) [Clang 13.1.6 (clang-1316.0.21.2.5)]"
  },
  "orig_nbformat": 4,
  "vscode": {
   "interpreter": {
    "hash": "b0fa6594d8f4cbf19f97940f81e996739fb7646882a419484c72d19e05852a7e"
   }
  }
 },
 "nbformat": 4,
 "nbformat_minor": 2
}
