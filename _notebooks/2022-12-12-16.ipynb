{
 "cells": [
  {
   "attachments": {},
   "cell_type": "markdown",
   "metadata": {},
   "source": [
    "# Unit 3 Lesson 16, Student Copy\n",
    "- toc: true\n",
    "- comments: true\n"
   ]
  },
  {
   "attachments": {},
   "cell_type": "markdown",
   "metadata": {},
   "source": [
    "### Hack #1 - Class Notes\n",
    "\n",
    "- simulations are abstractions that mimic more complex objects/phenomena from the real world in order to draw inferences without the constraints of the real world\n",
    "- use varying sets of values to reflect changing state of a real phenomena\n",
    "- it is often necessary to remove specific details or simplify aspects, which can cause bias\n",
    "- allow the formulation of hypotheses under consideration\n",
    "randomness/variability of the world is considered using random number generators"
   ]
  },
  {
   "attachments": {},
   "cell_type": "markdown",
   "metadata": {},
   "source": [
    "air traffic simulator- you can use a simulation to explore the optimal number of aircrafts that can be in the air in one time without real world constraints of money, time, safety\n",
    "may have bias, may not always have same result"
   ]
  },
  {
   "attachments": {},
   "cell_type": "markdown",
   "metadata": {},
   "source": [
    "### Hack #2 - Functions Classwork"
   ]
  },
  {
   "cell_type": "code",
   "execution_count": 59,
   "metadata": {},
   "outputs": [
    {
     "name": "stdout",
     "output_type": "stream",
     "text": [
      "36\n"
     ]
    }
   ],
   "source": [
    "# insert your work with randomization/ functions and the mycloset code here # Hint: Use the functions we talked about in the beginning!\n",
    "\n",
    "import random \n",
    "x = random.randint(0,100)\n",
    "print(x)"
   ]
  },
  {
   "cell_type": "code",
   "execution_count": 58,
   "metadata": {},
   "outputs": [
    {
     "name": "stdout",
     "output_type": "stream",
     "text": [
      "['socks', 'hat']\n",
      "hoodie was removed\n"
     ]
    }
   ],
   "source": [
    "import random\n",
    "def mycloset():\n",
    "    myclothes = [\"jeans\", \"hoodie\", \"socks\", \"hat\"]\n",
    "    for clothes in myclothes:\n",
    "        x = random.choice(myclothes) \n",
    "        myclothes.remove(x)\n",
    "        m = myclothes \n",
    "    print(m)\n",
    "    print(x + \" was removed\")\n",
    "\n",
    "mycloset()\n",
    "\n",
    "\n",
    "        "
   ]
  },
  {
   "cell_type": "code",
   "execution_count": 57,
   "metadata": {},
   "outputs": [
    {
     "name": "stdout",
     "output_type": "stream",
     "text": [
      "Heads\n",
      "Heads\n",
      "Tails\n",
      "Tails\n",
      "Heads\n"
     ]
    }
   ],
   "source": [
    "import random\n",
    "\n",
    "def coinflip():         \n",
    "    coins = random.randint(0, 2) \n",
    "    if coins == 0 or coins == 1: \n",
    "        print(\"Heads\")\n",
    "    else:\n",
    "            print(\"Tails\")\n",
    "\n",
    "\n",
    "t1 = coinflip()\n",
    "t2 = coinflip()\n",
    "t3 = coinflip()\n",
    "t4 = coinflip()\n",
    "t5 = coinflip()\n"
   ]
  },
  {
   "cell_type": "markdown",
   "metadata": {},
   "source": [
    "### Hack #3 - Binary Simulation Problem"
   ]
  },
  {
   "cell_type": "code",
   "execution_count": 56,
   "metadata": {},
   "outputs": [
    {
     "name": "stdout",
     "output_type": "stream",
     "text": [
      "sabine DIDN'T DIE! hallelujah\n",
      "alyssa is a loser and got zombified\n",
      "taylor swift DIDN'T DIE! hallelujah\n",
      "nathan DIDN'T DIE! hallelujah\n",
      "haseeb is a loser and got zombified\n",
      "wednesday addams DIDN'T DIE! hallelujah\n",
      "trisha paytas is a loser and got zombified\n"
     ]
    }
   ],
   "source": [
    "# insert your zombie simulation here; you don't have to use this template but it will help you get started\n",
    "\n",
    "import random\n",
    "\n",
    "def randomnum(): \n",
    "    return random.randint(0,255)\n",
    "\n",
    "def converttobin(n): \n",
    "    return (format(n, \"08b\"))\n",
    "\n",
    "def survivors(bin): \n",
    "    status = ['sabine', 'alyssa', 'taylor swift', 'nathan', 'haseeb', 'wednesday addams', 'trisha paytas', 'monaleo']\n",
    "    for i in range(0,7):\n",
    "        zombified = int(bin[i])\n",
    "        if zombified == 1:\n",
    "            print(status[i] + \" is a loser and got zombified\")\n",
    "        else:\n",
    "            print(status[i] + \" DIDN'T DIE! hallelujah\")\n",
    "\n",
    "a = randomnum()\n",
    "b = converttobin(a)\n",
    "survivors(b)\n",
    "\n",
    "\n",
    "        \n"
   ]
  },
  {
   "attachments": {},
   "cell_type": "markdown",
   "metadata": {},
   "source": [
    "### Hack #4 - Thinking through a problem\n",
    "- create your own simulation involving a dice roll\n",
    "- should include randomization and a function for rolling + multiple trials\n",
    "\n"
   ]
  },
  {
   "cell_type": "code",
   "execution_count": 55,
   "metadata": {},
   "outputs": [
    {
     "name": "stdout",
     "output_type": "stream",
     "text": [
      "you rolled 1\n",
      "you rolled 1\n",
      "you rolled 6\n",
      "you rolled 1\n",
      "you rolled 1\n"
     ]
    }
   ],
   "source": [
    "import random\n",
    "def diceroll():\n",
    "    return random.randint(1,6)\n",
    "for i in range(5):\n",
    "    x = diceroll()\n",
    "    print(\"you rolled {}\".format(x))"
   ]
  },
  {
   "attachments": {},
   "cell_type": "markdown",
   "metadata": {},
   "source": [
    "### Hack 5 - Applying your knowledge to situation based problems\n",
    "\n",
    "Using the questions bank below, create a quiz that presents the user a random question and calculates the user's score. You can use the template below or make your own. Making your own using a loop can give you extra points. "
   ]
  },
  {
   "attachments": {},
   "cell_type": "markdown",
   "metadata": {},
   "source": [
    "1. A researcher gathers data about the effect of Advanced Placement®︎ classes on students' success in college and career, and develops a simulation to show how a sequence of AP classes affect a hypothetical student's pathway.Several school administrators are concerned that the simulation contains bias favoring high-income students, however.\n",
    "    - answer options:\n",
    "        1. The simulation is an abstraction and therefore cannot contain any bias\n",
    "        2. The simulation may accidentally contain bias due to the exclusion of details.\n",
    "        3. If the simulation is found to contain bias, then it is not possible to remove the bias from the simulation.\n",
    "        4. The only way for the simulation to be biased is if the researcher intentionally used data that favored their desired output.\n",
    "2. Jack is trying to plan his financial future using an online tool. The tool starts off by asking him to input details about his current finances and career. It then lets him choose different future scenarios, such as having children. For each scenario chosen, the tool does some calculations and outputs his projected savings at the ages of 35, 45, and 55.Would that be considered a simulation and why?\n",
    "    - answer options\n",
    "        1. No, it's not a simulation because it does not include a visualization of the results.\n",
    "        2. No, it's not a simulation because it does not include all the details of his life history and the future financial environment.\n",
    "        3. Yes, it's a simulation because it runs on a computer and includes both user input and computed output.\n",
    "        4. Yes, it's a simulation because it is an abstraction of a real world scenario that enables the drawing of inferences.\n",
    "3. Sylvia is an industrial engineer working for a sporting goods company. She is developing a baseball bat that can hit balls with higher accuracy and asks their software engineering team to develop a simulation to verify the design.Which of the following details is most important to include in this simulation?\n",
    "    - answer options\n",
    "        1. Realistic sound effects based on the material of the baseball bat and the velocity of the hit\n",
    "        2. A depiction of an audience in the stands with lifelike behavior in response to hit accuracy\n",
    "        3. Accurate accounting for the effects of wind conditions on the movement of the ball\n",
    "        4. A baseball field that is textured to differentiate between the grass and the dirt\n",
    "4. Ashlynn is an industrial engineer who is trying to design a safer parachute. She creates a computer simulation of the parachute opening at different heights and in different environmental conditions.What are advantages of running the simulation versus an actual experiment?\n",
    "    - answer options\n",
    "        1. The simulation will not contain any bias that favors one body type over another, while an experiment will be biased.\n",
    "        2. The simulation can be run more safely than an actual experiment\n",
    "        3. The simulation will accurately predict the parachute's safety level, while an experiment may be inaccurate due to faulty experimental design.\n",
    "        4. The simulation can test the parachute design in a wide range of environmental conditions that may be difficult to reliably reproduce in an experiment.\n",
    "    * this question has 2 correct answers\n",
    "5. YOUR OWN QUESTION; can be situational, pseudo code based, or vocab/concept based\n",
    "6. YOUR OWN QUESTION; can be situational, pseudo code based, or vocab/concept based"
   ]
  },
  {
   "cell_type": "code",
   "execution_count": 78,
   "metadata": {},
   "outputs": [
    {
     "name": "stdout",
     "output_type": "stream",
     "text": [
      "A researcher gathers data about the effect of Advanced Placement®︎ classes on students' success in college and career, and develops a simulation to show how a sequence of AP classes affect a hypothetical student's pathway.Several school administrators are concerned that the simulation contains bias favoring high-income students, however.\n",
      "1) The simulation is an abstraction and therefore cannot contain any bias.\n",
      "2) The simulation may accidentally contain bias due to the exclusion of details.\n",
      "3) If the simulation is found to contain bias, then it is not possible to remove the bias from the simulation.\n",
      "4) The only way for the simulation to be biased is if the researcher intentionally used data that favored their desired output.\n",
      "ok youre not dumb\n",
      "Jack is trying to plan his financial future using an online tool. The tool starts off by asking him to input details about his current finances and career. It then lets him choose different future scenarios, such as having children. For each scenario chosen, the tool does some calculations and outputs his projected savings at the ages of 35, 45, and 55.Would that be considered a simulation and why?\n",
      "1) No, it's not a simulation because it does not include a visualization of the results.\n",
      "2) No, it's not a simulation because it does not include all the details of his life history and the future financial environment.\n",
      "3) Yes, it's a simulation because it runs on a computer and includes both user input and computed output.\n",
      "4) Yes, it's a simulation because it is an abstraction of a real world scenario that enables the drawing of inferences.\n",
      "ok youre not dumb\n",
      "Sylvia is an industrial engineer working for a sporting goods company. She is developing a baseball bat that can hit balls with higher accuracy and asks their software engineering team to develop a simulation to verify the design.Which of the following details is most important to include in this simulation?\n",
      "1) Realistic sound effects based on the material of the baseball bat and the velocity of the hit.\n",
      "2) A depiction of an audience in the stands with lifelike behavior in response to hit accuracy.\n",
      "3) Accurate accounting for the effects of wind conditions on the movement of the ball.\n",
      "4) A baseball field that is textured to differentiate between the grass and the dirt.\n",
      "ok youre not dumb\n",
      "Ashlynn is an industrial engineer who is trying to design a safer parachute. She creates a computer simulation of the parachute opening at different heights and in different environmental conditions. What are advantages of running the simulation versus an actual experiment?\n",
      "1) The simulation will not contain any bias that favors one body type over another, while an experiment will be biased.\n",
      "2) The simulation can be run more safely than an actual experiment.\n",
      "3) The simulation will accurately predict the parachute's safety level, while an experiment may be inaccurate due to faulty experimental design.\n",
      "4) The simulation can test the parachute design in a wide range of environmental conditions that may be difficult to reliably reproduce in an experiment.\n",
      "ok youre not dumb\n",
      "simulations are\n",
      "1) dumb and stupid\n",
      "2) abstractions that mimic more complex objects/phenomena from the real world in order to draw inferences without the constraints of the real world\n",
      "3) abstractions that are always wrong\n",
      "4) absolutely unexplainable\n",
      "youre dumb\n",
      "simulations are often not accurate to real life because\n",
      "1) theyre awful\n",
      "2) stupid people made them\n",
      "3) certain details may need to be removed or simplified for the sake of the simulation\n",
      "4) im failing this class\n",
      "youre dumb\n",
      "you got 4 questions right. there were 6. what does this say about you?\n"
     ]
    }
   ],
   "source": [
    "questions = [\n",
    "    (\"A researcher gathers data about the effect of Advanced Placement®︎ classes on students' success in college and career, and develops a simulation to show how a sequence of AP classes affect a hypothetical student's pathway.Several school administrators are concerned that the simulation contains bias favoring high-income students, however.\",\n",
    "    \"1) The simulation is an abstraction and therefore cannot contain any bias.\", \n",
    "    \"2) The simulation may accidentally contain bias due to the exclusion of details.\", \n",
    "    \"3) If the simulation is found to contain bias, then it is not possible to remove the bias from the simulation.\", \n",
    "    \"4) The only way for the simulation to be biased is if the researcher intentionally used data that favored their desired output.\",\n",
    "    [\"2\"]),\n",
    "    (\"Jack is trying to plan his financial future using an online tool. The tool starts off by asking him to input details about his current finances and career. It then lets him choose different future scenarios, such as having children. For each scenario chosen, the tool does some calculations and outputs his projected savings at the ages of 35, 45, and 55.Would that be considered a simulation and why?\",\n",
    "    \"1) No, it's not a simulation because it does not include a visualization of the results.\", \n",
    "    \"2) No, it's not a simulation because it does not include all the details of his life history and the future financial environment.\", \n",
    "    \"3) Yes, it's a simulation because it runs on a computer and includes both user input and computed output.\", \n",
    "    \"4) Yes, it's a simulation because it is an abstraction of a real world scenario that enables the drawing of inferences.\",\n",
    "    [\"3\"]),\n",
    "    (\"Sylvia is an industrial engineer working for a sporting goods company. She is developing a baseball bat that can hit balls with higher accuracy and asks their software engineering team to develop a simulation to verify the design.Which of the following details is most important to include in this simulation?\",\n",
    "    \"1) Realistic sound effects based on the material of the baseball bat and the velocity of the hit.\", \n",
    "    \"2) A depiction of an audience in the stands with lifelike behavior in response to hit accuracy.\", \n",
    "    \"3) Accurate accounting for the effects of wind conditions on the movement of the ball.\",\n",
    "    \"4) A baseball field that is textured to differentiate between the grass and the dirt.\",\n",
    "    [\"3\"]),\n",
    "    (\"Ashlynn is an industrial engineer who is trying to design a safer parachute. She creates a computer simulation of the parachute opening at different heights and in different environmental conditions. What are advantages of running the simulation versus an actual experiment?\",\n",
    "    \"1) The simulation will not contain any bias that favors one body type over another, while an experiment will be biased.\", \n",
    "    \"2) The simulation can be run more safely than an actual experiment.\", \n",
    "    \"3) The simulation will accurately predict the parachute's safety level, while an experiment may be inaccurate due to faulty experimental design.\", \n",
    "    \"4) The simulation can test the parachute design in a wide range of environmental conditions that may be difficult to reliably reproduce in an experiment.\",\n",
    "    [\"2\"]),\n",
    "    (\"simulations are\",\n",
    "    \"1) dumb and stupid\", \n",
    "    \"2) abstractions that mimic more complex objects/phenomena from the real world in order to draw inferences without the constraints of the real world\", \n",
    "    \"3) abstractions that are always wrong\", \n",
    "    \"4) absolutely unexplainable\",\n",
    "    [\"2\"]),\n",
    "    (\"simulations are often not accurate to real life because\",\n",
    "    \"1) theyre awful\", \n",
    "    \"2) stupid people made them\", \n",
    "    \"3) certain details may need to be removed or simplified for the sake of the simulation\", \n",
    "    \"4) im failing this class\",\n",
    "    [\"3\"])\n",
    "]\n",
    "\n",
    "correct = 0\n",
    "total = 6\n",
    "def PQ(tup):\n",
    "    print(tup[0])\n",
    "    print(tup[1])\n",
    "    print(tup[2])\n",
    "    print(tup[3])\n",
    "    print(tup[4])\n",
    "\n",
    "\n",
    "def questionloop():\n",
    "    correct = 0\n",
    "    quest = 6\n",
    "    for i in range(len(questions)):\n",
    "        PQ(questions[i])\n",
    "        answer = input(\"choose an answer\")\n",
    "        if answer in questions[i][5]:\n",
    "            print(\"ok youre not dumb\")\n",
    "            correct+=1\n",
    "        else:\n",
    "            print(\"youre dumb\")\n",
    "    return correct\n",
    "\n",
    "correct = questionloop()\n",
    "print(\"you got {0} questions right. there were {1}. what does this say about you?\".format(correct, total))"
   ]
  },
  {
   "attachments": {},
   "cell_type": "markdown",
   "metadata": {},
   "source": [
    "### Hack #6 / Challenge - Taking real life problems and implementing them into code"
   ]
  },
  {
   "attachments": {},
   "cell_type": "markdown",
   "metadata": {},
   "source": [
    "Create your own simulation based on your experiences/knowledge!\n",
    "Be creative! Think about instances in your own life, science, puzzles that can be made into simulations\n",
    "\n",
    "Some ideas to get your brain running: A simulation that breeds two plants and tells you phenotypes of offspring, an adventure simulation..."
   ]
  },
  {
   "cell_type": "code",
   "execution_count": 114,
   "metadata": {},
   "outputs": [
    {
     "name": "stdout",
     "output_type": "stream",
     "text": [
      "you'll be watching greys anatomy while eating filet mignon sometime this week\n"
     ]
    }
   ],
   "source": [
    "import random\n",
    "\n",
    "\n",
    "def DOTW():\n",
    "    shows = ['wednesday', 'inside job', 'greys anatomy', 'big mouth', 'criminal minds', 'no show']\n",
    "    foods = ['filet mignon', 'a dead rat', 'gordon ramsey', 'nothing', 'chips and salsa']\n",
    "    x = random.choice(shows) \n",
    "    v = random.choice(foods)\n",
    "\n",
    "    print(\"you'll be watching \" + x + \" while eating \" + v + \" sometime this week\")\n",
    "\n",
    "        \n",
    "\n",
    "    \n",
    "\n",
    "\n",
    "        \n",
    "DOTW()\n",
    "        \n",
    "        \n",
    "      \n",
    "    "
   ]
  }
 ],
 "metadata": {
  "kernelspec": {
   "display_name": "Python 3.9.12 ('base')",
   "language": "python",
   "name": "python3"
  },
  "language_info": {
   "codemirror_mode": {
    "name": "ipython",
    "version": 3
   },
   "file_extension": ".py",
   "mimetype": "text/x-python",
   "name": "python",
   "nbconvert_exporter": "python",
   "pygments_lexer": "ipython3",
   "version": "3.9.12 (main, Apr  5 2022, 01:53:17) \n[Clang 12.0.0 ]"
  },
  "orig_nbformat": 4,
  "vscode": {
   "interpreter": {
    "hash": "2dd75a19840c08e0d1e68e78a400889b4b7c4377a5178676669e8469b8861fbf"
   }
  }
 },
 "nbformat": 4,
 "nbformat_minor": 2
}
