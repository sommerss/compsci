{
 "cells": [
  {
   "cell_type": "code",
   "execution_count": 3,
   "metadata": {},
   "outputs": [
    {
     "name": "stdout",
     "output_type": "stream",
     "text": [
      "yippee\n"
     ]
    }
   ],
   "source": [
    "console.log(\"yippee\");"
   ]
  },
  {
   "cell_type": "code",
   "execution_count": 5,
   "metadata": {},
   "outputs": [
    {
     "name": "stdout",
     "output_type": "stream",
     "text": [
      "in this essay i will analyze the rhetorical appeals of the hit song mask by dream\n"
     ]
    }
   ],
   "source": [
    "var msg = \"in this essay i will analyze the rhetorical appeals of the hit song mask by dream\";\n",
    "console.log(msg);"
   ]
  },
  {
   "cell_type": "code",
   "execution_count": 6,
   "metadata": {},
   "outputs": [
    {
     "name": "stdout",
     "output_type": "stream",
     "text": [
      "in this essay i will analyze the rhetorical appeals of the hit song mask by dream\n"
     ]
    }
   ],
   "source": [
    "function logIt(output) {\n",
    "    console.log(output);\n",
    "}\n",
    "logIt(msg);"
   ]
  },
  {
   "cell_type": "code",
   "execution_count": 7,
   "metadata": {},
   "outputs": [
    {
     "name": "stdout",
     "output_type": "stream",
     "text": [
      "Reuse of logIT\n",
      "hello welcome to my essay\n",
      "2022\n"
     ]
    }
   ],
   "source": [
    "console.log(\"Reuse of logIT\")\n",
    "logIt(\"hello welcome to my essay\");\n",
    "logIt(2022)\n"
   ]
  },
  {
   "cell_type": "code",
   "execution_count": 8,
   "metadata": {},
   "outputs": [
    {
     "name": "stdout",
     "output_type": "stream",
     "text": [
      "looking at who asked\n",
      "string ; no one\n",
      "number ; 0\n",
      "object ; [ 0, 0, 0 ]\n"
     ]
    }
   ],
   "source": [
    "function logItType(output) {\n",
    "    console.log(typeof output, \";\", output);\n",
    "}\n",
    "console.log(\"looking at who asked\")\n",
    "logItType(\"no one\"); // String\n",
    "logItType(0);    // Number\n",
    "logItType([0, 0, 0]);"
   ]
  },
  {
   "cell_type": "code",
   "execution_count": 16,
   "metadata": {},
   "outputs": [
    {
     "ename": "ReferenceError",
     "evalue": "class0f is not defined",
     "output_type": "error",
     "traceback": [
      "evalmachine.<anonymous>:4",
      "    this.classOf = class0f;",
      "                   ^",
      "",
      "ReferenceError: class0f is not defined",
      "    at new Person (evalmachine.<anonymous>:4:20)",
      "    at evalmachine.<anonymous>:21:14",
      "    at ContextifyScript.Script.runInThisContext (vm.js:25:33)",
      "    at Object.runInThisContext (vm.js:97:38)",
      "    at run ([eval]:1020:15)",
      "    at onRunRequest ([eval]:864:18)",
      "    at onMessage ([eval]:828:13)",
      "    at emitTwo (events.js:106:13)",
      "    at process.emit (events.js:191:7)",
      "    at process.nextTick (internal/child_process.js:758:12)"
     ]
    }
   ],
   "source": [
    "function Person(name, slayrate, classOf) {\n",
    "    this.name = name;\n",
    "    this.slayrate = slayrate;\n",
    "    this.classOf = class0f;\n",
    "    this.role = \"\";\n",
    "}\n",
    "\n",
    "// define a setter for role in Person data\n",
    "Person.prototype.setRole = function(role) {\n",
    "    this.role = role;\n",
    "}\n",
    "\n",
    "// define a JSON conversion \"method\" associated with Person\n",
    "Person.prototype.toJSON = function() {\n",
    "    const obj = {name: this.name, slayrate: this.slayrate, class0f: this.classOf, role: this.role};\n",
    "    const json = JSON.stringify(obj);\n",
    "    return json;\n",
    "}\n",
    "\n",
    "// make a new Person and assign to variable teacher\n",
    "var slayer = new Person(\"sabine\", \"1million\", 2024);  // object type is easy to work with in JavaScript\n",
    "logItType(slayer);  // before role\n",
    "logItType(slayer.toJSON());  // ok to do this even though role is not yet defined\n",
    "\n",
    "// output of Object and JSON/string associated with Teacher\n",
    "slayer.setRole(\"slayer\");   // set the role\n",
    "logItType(slayer); \n",
    "logItType(slayer.toJSON());"
   ]
  }
 ],
 "metadata": {
  "kernelspec": {
   "display_name": "JavaScript (Node.js)",
   "language": "javascript",
   "name": "javascript"
  },
  "language_info": {
   "file_extension": ".js",
   "mimetype": "application/javascript",
   "name": "javascript",
   "version": "6.11.2"
  },
  "orig_nbformat": 4,
  "vscode": {
   "interpreter": {
    "hash": "916dbcbb3f70747c44a77c7bcd40155683ae19c65e1c03b4aa3499c5328201f1"
   }
  }
 },
 "nbformat": 4,
 "nbformat_minor": 2
}
