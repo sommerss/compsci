{
 "cells": [
  {
   "cell_type": "code",
   "execution_count": 1,
   "metadata": {},
   "outputs": [
    {
     "name": "stdout",
     "output_type": "stream",
     "text": [
      "[{'FirstName': 'Meredith', 'LastName': 'Greys', 'Specialty': 'General Surgery', 'Spouse': 'Derek Shepherd', 'Rule violations': ['got sued so many times', 'dropping liver', 'ruining alzheimers trial', 'stealing baby', \"taking things that aren't her specialty\", 'ellis greys daughter', 'not like other girls']}, {'FirstName': 'Cristina', 'LastName': 'Yang', 'Specialty': 'Cardio', 'Spouse': 'Owen Hunt', 'Rule violations': ['killed her bosses husband but otherwise none to speak of']}, {'FirstName': 'Alex', 'LastName': 'Karev', 'Specialty': 'Peds', 'Spouse': 'Izzie Stevens', 'Rule violations': ['mean']}]\n"
     ]
    }
   ],
   "source": [
    "# Define an empty List called InfoDb\n",
    "InfoDb = []\n",
    "\n",
    "# Append to List a Dictionary of key/values related to a greys anatomy characters\n",
    "InfoDb.append({\n",
    "    \"FirstName\": \"Meredith\",\n",
    "    \"LastName\": \"Grey\",\n",
    "    \"Specialty\": \"General Surgery\",\n",
    "    \"Spouse\": \"Derek Shepherd\",\n",
    "    \"Rule violations\": [\"got sued so many times\",\"dropping liver\", \"ruining alzheimers trial\", \"stealing baby\", \"taking things that aren't her specialty\", \"ellis greys daughter\", \"not like other girls\"]\n",
    "})\n",
    "\n",
    "# Second append to another character\n",
    "InfoDb.append({\n",
    "    \"FirstName\": \"Cristina\",\n",
    "    \"LastName\": \"Yang\",\n",
    "    \"Specialty\": \"Cardio\",\n",
    "    \"Spouse\": \"Owen Hunt\",\n",
    "    \"Rule violations\": [\"killed her bosses husband but otherwise none to speak of\"]\n",
    "})\n",
    "\n",
    "InfoDb.append({\n",
    "    \"FirstName\": \"Alex\",\n",
    "    \"LastName\": \"Karev\",\n",
    "    \"Specialty\": \"Peds\",\n",
    "    \"Spouse\": \"Izzie Stevens\",\n",
    "    \"Rule violations\": [\"mean\"]\n",
    "})\n",
    "\n",
    "\n",
    "print(InfoDb)"
   ]
  },
  {
   "cell_type": "code",
   "execution_count": 3,
   "metadata": {},
   "outputs": [
    {
     "name": "stdout",
     "output_type": "stream",
     "text": [
      "For loop output\n",
      "\n",
      "Meredith Greys\n",
      "\t Specialty: General Surgery\n",
      "\t Spouse: Derek Shepherd\n",
      "\t Rule violations: got sued so many times, dropping liver, ruining alzheimers trial, stealing baby, taking things that aren't her specialty, ellis greys daughter, not like other girls\n",
      "\n",
      "Cristina Yang\n",
      "\t Specialty: Cardio\n",
      "\t Spouse: Owen Hunt\n",
      "\t Rule violations: killed her bosses husband but otherwise none to speak of\n",
      "\n",
      "Alex Karev\n",
      "\t Specialty: Peds\n",
      "\t Spouse: Izzie Stevens\n",
      "\t Rule violations: mean\n",
      "\n"
     ]
    }
   ],
   "source": [
    "# given and index this will print InfoDb content\n",
    "def print_data(d_rec):\n",
    "    print(d_rec[\"FirstName\"], d_rec[\"LastName\"])  # using comma puts space between values\n",
    "    print(\"\\t\", \"Specialty:\", d_rec[\"Specialty\"]) # \\t is a tab indent\n",
    "    print(\"\\t\", \"Spouse:\", d_rec[\"Spouse\"])\n",
    "    print(\"\\t\", \"Rule violations: \", end=\"\")  # end=\"\" make sure no return occurs\n",
    "    print(\", \".join(d_rec[\"Rule violations\"]))  # join allows printing a string list with separator\n",
    "    print()\n",
    "\n",
    "\n",
    "# for loop iterates on length of InfoDb\n",
    "def for_loop():\n",
    "    print(\"For loop output\\n\")\n",
    "    for record in InfoDb:\n",
    "        print_data(record)\n",
    "\n",
    "for_loop()"
   ]
  },
  {
   "cell_type": "code",
   "execution_count": 4,
   "metadata": {},
   "outputs": [
    {
     "name": "stdout",
     "output_type": "stream",
     "text": [
      "While loop output\n",
      "\n",
      "Meredith Greys\n",
      "\t Specialty: General Surgery\n",
      "\t Spouse: Derek Shepherd\n",
      "\t Rule violations: got sued so many times, dropping liver, ruining alzheimers trial, stealing baby, taking things that aren't her specialty, ellis greys daughter, not like other girls\n",
      "\n",
      "Cristina Yang\n",
      "\t Specialty: Cardio\n",
      "\t Spouse: Owen Hunt\n",
      "\t Rule violations: killed her bosses husband but otherwise none to speak of\n",
      "\n",
      "Alex Karev\n",
      "\t Specialty: Peds\n",
      "\t Spouse: Izzie Stevens\n",
      "\t Rule violations: mean\n",
      "\n"
     ]
    }
   ],
   "source": [
    "# while the value is less than the total useable value of items in the database it will keep printing\n",
    "def while_loop():\n",
    "    print(\"While loop output\\n\")\n",
    "    i = 0\n",
    "    while i < len(InfoDb):\n",
    "        record = InfoDb[i]\n",
    "        print_data(record)\n",
    "        i += 1\n",
    "    return\n",
    "\n",
    "while_loop()"
   ]
  },
  {
   "cell_type": "code",
   "execution_count": 5,
   "metadata": {},
   "outputs": [
    {
     "name": "stdout",
     "output_type": "stream",
     "text": [
      "Recursive loop output\n",
      "\n",
      "Meredith Greys\n",
      "\t Specialty: General Surgery\n",
      "\t Spouse: Derek Shepherd\n",
      "\t Rule violations: got sued so many times, dropping liver, ruining alzheimers trial, stealing baby, taking things that aren't her specialty, ellis greys daughter, not like other girls\n",
      "\n",
      "Cristina Yang\n",
      "\t Specialty: Cardio\n",
      "\t Spouse: Owen Hunt\n",
      "\t Rule violations: killed her bosses husband but otherwise none to speak of\n",
      "\n",
      "Alex Karev\n",
      "\t Specialty: Peds\n",
      "\t Spouse: Izzie Stevens\n",
      "\t Rule violations: mean\n",
      "\n"
     ]
    }
   ],
   "source": [
    "# keeps repeating loop until it reaches maximum possible value\n",
    "def recursive_loop(i):\n",
    "    if i < len(InfoDb):\n",
    "        record = InfoDb[i]\n",
    "        print_data(record)\n",
    "        recursive_loop(i + 1)\n",
    "    return\n",
    "    \n",
    "print(\"Recursive loop output\\n\")\n",
    "recursive_loop(0)"
   ]
  },
  {
   "cell_type": "markdown",
   "metadata": {},
   "source": [
    "different kinds of loops after adding to the database but all keep repeating until all (3) items in the database are printed or reach maximum printing capacity"
   ]
  },
  {
   "cell_type": "code",
   "execution_count": null,
   "metadata": {},
   "outputs": [],
   "source": []
  }
 ],
 "metadata": {
  "kernelspec": {
   "display_name": "Python 3.10.6 64-bit",
   "language": "python",
   "name": "python3"
  },
  "language_info": {
   "codemirror_mode": {
    "name": "ipython",
    "version": 3
   },
   "file_extension": ".py",
   "mimetype": "text/x-python",
   "name": "python",
   "nbconvert_exporter": "python",
   "pygments_lexer": "ipython3",
   "version": "3.10.9 (main, Dec 15 2022, 17:11:09) [Clang 14.0.0 (clang-1400.0.29.202)]"
  },
  "orig_nbformat": 4,
  "vscode": {
   "interpreter": {
    "hash": "b0fa6594d8f4cbf19f97940f81e996739fb7646882a419484c72d19e05852a7e"
   }
  }
 },
 "nbformat": 4,
 "nbformat_minor": 2
}
