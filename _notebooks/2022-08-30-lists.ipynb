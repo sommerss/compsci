{
 "cells": [
  {
   "cell_type": "code",
   "execution_count": 1,
   "metadata": {},
   "outputs": [
    {
     "name": "stdout",
     "output_type": "stream",
     "text": [
      "[{'FirstName': 'Meredith', 'LastName': 'Greys', 'Specialty': 'General Surgery', 'Spouse': 'Derek Shepherd', 'Rule violations': ['got sued so many times', 'dropping liver', 'ruining alzheimers trial', 'stealing baby', \"taking things that aren't her specialty\", 'ellis greys daughter', 'not like other girls']}, {'FirstName': 'Cristina', 'LastName': 'Yang', 'Specialty': 'Cardio', 'Spouse': 'Owen Hunt', 'Rule violations': ['killed her bosses husband but otherwise none to speak of']}, {'FirstName': 'Alex', 'LastName': 'Karev', 'Specialty': 'Peds', 'Spouse': 'Izzie Stevens', 'Rule violations': ['mean']}]\n"
     ]
    }
   ],
   "source": [
    "# Define an empty List called InfoDb\n",
    "InfoDb = []\n",
    "\n",
    "# Append to List a Dictionary of key/values related to a greys anatomy characters\n",
    "InfoDb.append({\n",
    "    \"FirstName\": \"Meredith\",\n",
    "    \"LastName\": \"Grey\",\n",
    "    \"Specialty\": \"General Surgery\",\n",
    "    \"Spouse\": \"Derek Shepherd\",\n",
    "    \"Rule violations\": [\"got sued so many times\",\"dropping liver\", \"ruining alzheimers trial\", \"stealing baby\", \"taking things that aren't her specialty\", \"ellis greys daughter\", \"not like other girls\"]\n",
    "})\n",
    "\n",
    "# Append to List a 2nd Dictionary of key/values\n",
    "InfoDb.append({\n",
    "    \"FirstName\": \"Cristina\",\n",
    "    \"LastName\": \"Yang\",\n",
    "    \"Specialty\": \"Cardio\",\n",
    "    \"Spouse\": \"Owen Hunt\",\n",
    "    \"Rule violations\": [\"killed her bosses husband but otherwise none to speak of\"]\n",
    "})\n",
    "\n",
    "InfoDb.append({\n",
    "    \"FirstName\": \"Alex\",\n",
    "    \"LastName\": \"Karev\",\n",
    "    \"Specialty\": \"Peds\",\n",
    "    \"Spouse\": \"Izzie Stevens\",\n",
    "    \"Rule violations\": [\"mean\"]\n",
    "})\n",
    "\n",
    "# Print the data structure\n",
    "print(InfoDb)"
   ]
  },
  {
   "cell_type": "code",
   "execution_count": 3,
   "metadata": {},
   "outputs": [
    {
     "name": "stdout",
     "output_type": "stream",
     "text": [
      "For loop output\n",
      "\n",
      "Meredith Greys\n",
      "\t Specialty: General Surgery\n",
      "\t Spouse: Derek Shepherd\n",
      "\t Rule violations: got sued so many times, dropping liver, ruining alzheimers trial, stealing baby, taking things that aren't her specialty, ellis greys daughter, not like other girls\n",
      "\n",
      "Cristina Yang\n",
      "\t Specialty: Cardio\n",
      "\t Spouse: Owen Hunt\n",
      "\t Rule violations: killed her bosses husband but otherwise none to speak of\n",
      "\n",
      "Alex Karev\n",
      "\t Specialty: Peds\n",
      "\t Spouse: Izzie Stevens\n",
      "\t Rule violations: mean\n",
      "\n"
     ]
    }
   ],
   "source": [
    "# given and index this will print InfoDb content\n",
    "def print_data(d_rec):\n",
    "    print(d_rec[\"FirstName\"], d_rec[\"LastName\"])  # using comma puts space between values\n",
    "    print(\"\\t\", \"Specialty:\", d_rec[\"Specialty\"]) # \\t is a tab indent\n",
    "    print(\"\\t\", \"Spouse:\", d_rec[\"Spouse\"])\n",
    "    print(\"\\t\", \"Rule violations: \", end=\"\")  # end=\"\" make sure no return occurs\n",
    "    print(\", \".join(d_rec[\"Rule violations\"]))  # join allows printing a string list with separator\n",
    "    print()\n",
    "\n",
    "\n",
    "# for loop iterates on length of InfoDb\n",
    "def for_loop():\n",
    "    print(\"For loop output\\n\")\n",
    "    for record in InfoDb:\n",
    "        print_data(record)\n",
    "\n",
    "for_loop()"
   ]
  },
  {
   "cell_type": "code",
   "execution_count": 4,
   "metadata": {},
   "outputs": [
    {
     "name": "stdout",
     "output_type": "stream",
     "text": [
      "While loop output\n",
      "\n",
      "Meredith Greys\n",
      "\t Specialty: General Surgery\n",
      "\t Spouse: Derek Shepherd\n",
      "\t Rule violations: got sued so many times, dropping liver, ruining alzheimers trial, stealing baby, taking things that aren't her specialty, ellis greys daughter, not like other girls\n",
      "\n",
      "Cristina Yang\n",
      "\t Specialty: Cardio\n",
      "\t Spouse: Owen Hunt\n",
      "\t Rule violations: killed her bosses husband but otherwise none to speak of\n",
      "\n",
      "Alex Karev\n",
      "\t Specialty: Peds\n",
      "\t Spouse: Izzie Stevens\n",
      "\t Rule violations: mean\n",
      "\n"
     ]
    }
   ],
   "source": [
    "# while loop contains an initial n and an index incrementing statement (n += 1)\n",
    "def while_loop():\n",
    "    print(\"While loop output\\n\")\n",
    "    i = 0\n",
    "    while i < len(InfoDb):\n",
    "        record = InfoDb[i]\n",
    "        print_data(record)\n",
    "        i += 1\n",
    "    return\n",
    "\n",
    "while_loop()"
   ]
  },
  {
   "cell_type": "code",
   "execution_count": 5,
   "metadata": {},
   "outputs": [
    {
     "name": "stdout",
     "output_type": "stream",
     "text": [
      "Recursive loop output\n",
      "\n",
      "Meredith Greys\n",
      "\t Specialty: General Surgery\n",
      "\t Spouse: Derek Shepherd\n",
      "\t Rule violations: got sued so many times, dropping liver, ruining alzheimers trial, stealing baby, taking things that aren't her specialty, ellis greys daughter, not like other girls\n",
      "\n",
      "Cristina Yang\n",
      "\t Specialty: Cardio\n",
      "\t Spouse: Owen Hunt\n",
      "\t Rule violations: killed her bosses husband but otherwise none to speak of\n",
      "\n",
      "Alex Karev\n",
      "\t Specialty: Peds\n",
      "\t Spouse: Izzie Stevens\n",
      "\t Rule violations: mean\n",
      "\n"
     ]
    }
   ],
   "source": [
    "# recursion simulates loop incrementing on each call (n + 1) until exit condition is met\n",
    "def recursive_loop(i):\n",
    "    if i < len(InfoDb):\n",
    "        record = InfoDb[i]\n",
    "        print_data(record)\n",
    "        recursive_loop(i + 1)\n",
    "    return\n",
    "    \n",
    "print(\"Recursive loop output\\n\")\n",
    "recursive_loop(0)"
   ]
  },
  {
   "cell_type": "code",
   "execution_count": null,
   "metadata": {},
   "outputs": [],
   "source": [
    "--\n",
    "toc: true\n",
    "layout: post\n",
    "categories: [markdown]\n",
    "title: Lists and interations\n",
    "--"
   ]
  }
 ],
 "metadata": {
  "kernelspec": {
   "display_name": "Python 3.8.10 64-bit",
   "language": "python",
   "name": "python3"
  },
  "language_info": {
   "codemirror_mode": {
    "name": "ipython",
    "version": 3
   },
   "file_extension": ".py",
   "mimetype": "text/x-python",
   "name": "python",
   "nbconvert_exporter": "python",
   "pygments_lexer": "ipython3",
   "version": "3.8.10"
  },
  "orig_nbformat": 4,
  "vscode": {
   "interpreter": {
    "hash": "916dbcbb3f70747c44a77c7bcd40155683ae19c65e1c03b4aa3499c5328201f1"
   }
  }
 },
 "nbformat": 4,
 "nbformat_minor": 2
}
