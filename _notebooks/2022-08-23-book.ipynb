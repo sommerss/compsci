{
 "cells": [
  {
   "cell_type": "code",
   "execution_count": 3,
   "metadata": {},
   "outputs": [
    {
     "name": "stdout",
     "output_type": "stream",
     "text": [
      "Hello, wts running /bin/python3\n",
      "YTime for 4 questions.\n",
      "Question: What command is used to repeat exactly what you've just said?\n",
      "echo is correct!\n",
      "Question: What is five times seven?\n",
      "35 is correct!\n",
      "Question: Post files must be named in ____ format in order to go through\n",
      "YYYY-MM-DD.md is correct!\n",
      "Question: What is the syntax for adding images to your blog?\n",
      "![]{{site.baseurl}}/images/image.png is correct!\n",
      "wts you scored 4/4\n"
     ]
    }
   ],
   "source": [
    "import getpass, sys\n",
    "\n",
    "def question_with_response(prompt):\n",
    "    print(\"Question: \" + prompt)\n",
    "    msg = input()\n",
    "    return msg\n",
    "#defines question with response as prompt and says what the value of msg is \n",
    "\n",
    "questions = 4\n",
    "correct = 0\n",
    "\n",
    "print('Hello, ' + getpass.getuser() + \" running \" + sys.executable)\n",
    "print(\"Time for \" + str(questions) + \" questions.\")\n",
    "\n",
    "rsp = question_with_response(\"What command is used to repeat exactly what you've just said?\")\n",
    "if rsp == \"echo\":\n",
    "    print(rsp + \" is correct!\")\n",
    "    correct += 1\n",
    "else:\n",
    "    print(rsp + \" is incorrect!\")\n",
    "\n",
    "#if else statement in case of incorrect answer\n",
    "\n",
    "rsp = question_with_response(\"What is five times seven?\")\n",
    "if rsp == \"35\":\n",
    "    print(rsp + \" is correct!\")\n",
    "    correct += 1\n",
    "else:\n",
    "    print(rsp + \" is incorrect!\")\n",
    "\n",
    "#if else in case of incorrect answer\n",
    "\n",
    "rsp = question_with_response(\"Post files must be named in ____ format in order to go through\")\n",
    "if rsp == \"YYYY-MM-DD.md\":\n",
    "    print(rsp + \" is correct!\")\n",
    "    correct += 1\n",
    "else:\n",
    "    print(rsp + \" is incorrect!\")\n",
    "\n",
    "# see above reasoning\n",
    "rsp = question_with_response(\"What is the syntax for adding images to your blog?\")\n",
    "if rsp == \"![]{{site.baseurl}}/images/image.png\":\n",
    "    print(rsp + \" is correct!\")\n",
    "    correct += 1\n",
    "else:\n",
    "    print(rsp + \" is incorrect!\")\n",
    "\n",
    "print(getpass.getuser() + \" you scored \" + str(correct) +\"/\" + str(questions))\n",
    "\n",
    "#prints the username as well as the score out of the total\n",
    "print(getpass.getuser() + \"you scored\" + str((correct / questions))*100"
   ]
  },
  {
   "cell_type": "markdown",
   "metadata": {},
   "source": [
    "\n"
   ]
  }
 ],
 "metadata": {
  "kernelspec": {
   "display_name": "Python 3.8.10 64-bit",
   "language": "python",
   "name": "python3"
  },
  "language_info": {
   "codemirror_mode": {
    "name": "ipython",
    "version": 3
   },
   "file_extension": ".py",
   "mimetype": "text/x-python",
   "name": "python",
   "nbconvert_exporter": "python",
   "pygments_lexer": "ipython3",
   "version": "3.8.10"
  },
  "orig_nbformat": 4,
  "vscode": {
   "interpreter": {
    "hash": "916dbcbb3f70747c44a77c7bcd40155683ae19c65e1c03b4aa3499c5328201f1"
   }
  }
 },
 "nbformat": 4,
 "nbformat_minor": 2
}
