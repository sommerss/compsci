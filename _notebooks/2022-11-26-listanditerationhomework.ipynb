{
 "cells": [
  {
   "cell_type": "markdown",
   "metadata": {},
   "source": [
    "# Lists and Iteration Homework and Challenges\n",
    "> Try to complete this to show understanding! Copy this into your notebook so you can also take notes as we lecture. Make a copy of this notebook to your own repository to take notes, do the class challenges, and to access the homework.\n",
    "- title: Lists and Iteration Homework\n",
    "- toc: true\n",
    "- permalink: /homework/"
   ]
  },
  {
   "cell_type": "markdown",
   "metadata": {},
   "source": [
    "lists are collections of data- you can use them to store unlimited amounts of data- the data can be procedurally used by using loops and functions that locate list data using indexes\n",
    "\n",
    "indexes count starting with 0\n",
    "\n",
    "numbers in lists can be used for math"
   ]
  },
  {
   "cell_type": "code",
   "execution_count": null,
   "metadata": {},
   "outputs": [],
   "source": []
  },
  {
   "cell_type": "markdown",
   "metadata": {},
   "source": [
    "## Overview and Notes:  3.10 - Lists\n",
    "- Make sure you complete the challenge in the challenges section while we present the lesson! \n",
    "\n",
    "Add your <mark>OWN</mark> Notes for 3.10 here: \n",
    "\n",
    "\n",
    "Fill out the empty boxes: \n",
    "\n",
    "|   Pseudocode Operation  | Python Syntax |                                                           Description                                                          |\n",
    "|:-----------------------:|---------------|:------------------------------------------------------------------------------------------------------------------------------:|\n",
    "|       aList[i]        |       aList[i]        | _Accesses the element of aList at index i_                                                                                     |\n",
    "|       x ← aList[i]      |x = aList(i)| _Assigns the element of aList at index i <br>to a variable 'x'_                                                                |\n",
    "|       aList[i] ← x      |      aList(i) = x         | _Assigns the value of a variable 'x' to <br>the element of a List at index i_                                                  |\n",
    "|   aList[i] ← aList[j]   |aList[i] = aList[j]| _Assigns value of aList[j] to aList[i]_                                                                                        |\n",
    "| INSERT(aList, i, value)|       aList.insert(i, value)        | _value is placed at index i in aList. Any <br>element at an index greater than i will shift<br>one position to the right. _    |\n",
    "|   APPEND(aList, value)  |      aList.append(value)         | value is added as an element to the end of aList\n",
    "and length of aList is increased by 1                                    |\n",
    "|     REMOVE(aList, i)|      aList.pop(i)<br>OR<br>aList.remove(value)         | _Removes item at index i and any values at <br>indices greater than i shift to the left. <br>Length of aList decreased by 1. _ |\n"
   ]
  },
  {
   "cell_type": "markdown",
   "metadata": {},
   "source": [
    "## Overview and Notes:  3.8 - Iteration\n",
    "\n",
    "Add your <mark>OWN</mark> Notes for 3.8 here: \n",
    "\n",
    "iteration is repetition- have a system in place to repeat a function a certain amount of times. copy and pasting a ton of times is very unprofessional. \n",
    "\n",
    "automate by using loops. \n",
    "\n",
    "\n",
    "ex: \n",
    "number = 2\n",
    "def multiplyby8_4times(num):\n",
    "    print('Multiplying', num, 'by 8 four times:')\n",
    "    i = 0 #i starts at 0\n",
    "    while i < 4: #the function will repeat until i >= 4\n",
    "        num = num * 8\n",
    "        print(num)\n",
    "        i += 1 #i increments each time\n",
    "\n",
    "multiplyby8_4times(number)\n",
    "\n",
    "can also use for loop\n",
    "\n",
    "numlist = [1, 2, 3, 4] #more numbers = increase the amount of times it iterates\n",
    "#since numlist is a list of single numbers, it understands 'number' as each number\n",
    "for number in numlist:\n",
    "    prod = number * 2\n",
    "    print(str(number), \"times 2 is equal to\", str(prod) + \".\")\n",
    "\n",
    "for multiple items in each index\n",
    "\n",
    "petlist = [(\"Dogs\", 1), (\"Cats\", 2), (\"Fish\", 0)]\n",
    "\n",
    "print(\"Your pets:\")\n",
    "for pet, number in petlist: #in order, the first and then the second\n",
    "    print(pet + \": \", number)\n",
    "\n",
    "BUT it is preferable to use a dictionary"
   ]
  },
  {
   "cell_type": "code",
   "execution_count": 18,
   "metadata": {},
   "outputs": [
    {
     "name": "stdout",
     "output_type": "stream",
     "text": [
      "Drew's pets:\n",
      "Dogs: 1\n",
      "Cats: 1\n",
      "Fish: 0\n",
      "\n",
      "AJ's pets:\n",
      "Dogs: 1\n",
      "Cats: 0\n",
      "Fish: 329\n",
      "\n",
      "Johnny's pets:\n",
      "Dogs: 2\n",
      "Cats: 0\n",
      "Fish: 0\n",
      "\n"
     ]
    }
   ],
   "source": [
    "drewpets = [(\"Drew\", ({\"dogs\": 1, \"cats\": 1, \"fish\": 0}))]\n",
    "ajpets = [(\"AJ\", {\"dogs\": 1, \"cats\": 0, \"fish\": 329})]\n",
    "johnnypets = [(\"Johnny\", {\"dogs\": 2, \"cats\": 0, \"fish\": 0})]\n",
    "allpets = [drewpets, ajpets, johnnypets] #a collection of all pet lists\n",
    "\n",
    "for person in allpets:\n",
    "    for name, dict in person: #unpacking the name and dictionary\n",
    "        print(name + \"'s pets:\")\n",
    "        for pet, num in dict.items(): #use .items() to go through keys and values\n",
    "            print(pet.capitalize() + \":\", num) #capitalizes first letter\n",
    "    print(\"\")"
   ]
  },
  {
   "cell_type": "code",
   "execution_count": 26,
   "metadata": {},
   "outputs": [
    {
     "name": "stdout",
     "output_type": "stream",
     "text": [
      "Yearbook to do:\n",
      "Ybk8: 3\n",
      "Ybk14: 5\n",
      "Ybk17: 2\n",
      "\n",
      "AFA to do:\n",
      "A11: 1\n",
      "A9: 1\n",
      "\n",
      "Scarlet Letter to do:\n",
      "Chapter 11: 2\n",
      "Socratic seminar: 3\n",
      "\n"
     ]
    }
   ],
   "source": [
    "ybkwork = [(\"Yearbook\", ({\"ybk8\": 3, \"ybk14\": 5, \"ybk17\": 2}))]\n",
    "mathwork = [(\"AFA\", ({\"A11\": 1, \"A9\": 1}))]\n",
    "englishwork = [(\"Scarlet Letter\", ({\"Chapter 11\": 2, \"Socratic Seminar\": 3}))]\n",
    "alltasks = [ybkwork, mathwork, englishwork]\n",
    "\n",
    "for task in alltasks:\n",
    "    for name, dict in task: \n",
    "        print(name + \" to do:\")\n",
    "        for tasks, num in dict.items(): \n",
    "            print(tasks.capitalize() + \":\", num) \n",
    "    print(\"\")\n",
    "\n"
   ]
  },
  {
   "cell_type": "markdown",
   "metadata": {},
   "source": [
    "## Homework Assignment\n",
    "\n",
    "Instead of us making a quiz for you to take, we would like YOU to make a quiz about the material we reviewed.\n",
    "\n",
    "We would like you to <mark>input questions into a list</mark>, and use some sort of iterative system to print the questions, detect an input, and determine if you answered correctly. There should be *at least* <mark>five questions</mark>, each with *at least* <mark>three possible answers</mark>.\n",
    "\n",
    "You may use the template below as a framework for this assignment."
   ]
  },
  {
   "cell_type": "code",
   "execution_count": 24,
   "metadata": {},
   "outputs": [],
   "source": [
    "questions = [\n",
    "    #questions go here (remember to make them strings!)\n",
    "]\n",
    "\n",
    "def questionloop():\n",
    "    pass\n",
    "    #make an iterative function to ask the questions\n",
    "    #this can be any loop you want as long as it works!\n",
    "\n",
    "def answercheck():\n",
    "    pass\n",
    "    #make a function to check if the answer was correct or not\n"
   ]
  },
  {
   "cell_type": "code",
   "execution_count": 2,
   "metadata": {},
   "outputs": [
    {
     "name": "stdout",
     "output_type": "stream",
     "text": [
      "question:what is the append syntax for python?\n",
      "that's right!\n",
      "question:what can you use for automation?\n",
      "that's right!\n",
      "question:is copy pasting repeatedly professional?\n",
      "that's right!\n",
      "question:what do indexes normally count starting with?\n",
      "that's right!\n",
      "question:can numbers in lists be used for math?\n",
      "that's right!\n"
     ]
    }
   ],
   "source": [
    "def qwp(prompt):\n",
    "    print(\"question:\" + prompt)\n",
    "    msg = input()\n",
    "    return msg\n",
    "\n",
    "response = qwp(\"what is the append syntax for python?\")\n",
    "if response == \"aList.append(value)\":\n",
    "    print(\"that's right!\")\n",
    "else:\n",
    "    print(\"boo unfortunately it was aList.append(value)\")\n",
    "\n",
    "response = qwp(\"what can you use for automation?\")\n",
    "if response == \"loops\":\n",
    "    print(\"that's right!\")\n",
    "else:\n",
    "    print(\"boo unfortunately it was loops\")\n",
    "\n",
    "response = qwp(\"is copy pasting repeatedly professional?\")\n",
    "if response == \"no\":\n",
    "    print(\"that's right!\")\n",
    "else:\n",
    "    print(\"boo unfortunately it was no\")\n",
    "\n",
    "response = qwp(\"what do indexes normally count starting with?\")\n",
    "if response == \"0\":\n",
    "    print(\"that's right!\")\n",
    "else:\n",
    "    print(\"boo unfortunately it was 0\")\n",
    "\n",
    "response = qwp(\"can numbers in lists be used for math?\")\n",
    "if response == \"yes\":\n",
    "    print(\"that's right!\")\n",
    "else:\n",
    "    print(\"boo unfortunately it was yes\")\n",
    "\n",
    "\n",
    "\n",
    "\n",
    "\n",
    "\n"
   ]
  },
  {
   "cell_type": "markdown",
   "metadata": {},
   "source": [
    "### Hacks\n",
    "\n",
    "Here are some ideas of things you can do to make your program even cooler. Doing these will raise your grade if done correctly.\n",
    "\n",
    "- Add more than five questions with more than three answer choices\n",
    "- Randomize the order in which questions/answers are output\n",
    "- At the end, display the user's score and determine whether or not they passed\n",
    "\n",
    "## Challenges\n",
    "\n",
    "<mark>Important!</mark> You don't have to complete these challenges completely perfectly, but you will be marked down if you don't show evidence of at least having tried these challenges in the time we gave during the lesson.\n",
    "\n",
    "### 3.10 Challenge\n",
    "\n",
    "Follow the instructions in the code comments."
   ]
  },
  {
   "cell_type": "code",
   "execution_count": 17,
   "metadata": {},
   "outputs": [
    {
     "name": "stdout",
     "output_type": "stream",
     "text": [
      "carrots\n",
      "carrots\n",
      "artichokes\n",
      "['apples', 'eggs', 'artichokes', 'carrots', 'cucumbers', 'umbrellas', 'artichokes']\n"
     ]
    }
   ],
   "source": [
    "grocery_list = ['apples', 'milk', 'oranges', 'carrots', 'cucumbers']\n",
    "\n",
    "# Print the fourth item in the list\n",
    "print(grocery_list[3])\n",
    "\n",
    "# Now, assign the fourth item in the list to a variable, x and then print the variable\n",
    "x= grocery_list[3]\n",
    "print(x)\n",
    "\n",
    "# Add these two items at the end of the list : umbrellas and artichokes\n",
    "grocery_list.append(\"umbrellas\")\n",
    "grocery_list.append(\"artichokes\")\n",
    "\n",
    "\n",
    "\n",
    "# Insert the item eggs as the third item of the list \n",
    "grocery_list.insert(2, \"eggs\")\n",
    "\n",
    "\n",
    "# Remove milk from the list \n",
    "\n",
    "grocery_list.remove(\"milk\")\n",
    "\n",
    "# Assign the element at the end of the list to index 2. Print index 2 to check\n",
    "grocery_list[2] = grocery_list[6]\n",
    "print(grocery_list[2])\n",
    "\n",
    "# Print the entire list, does it match ours ? \n",
    "print(grocery_list)\n",
    "\n",
    "# Expected output\n",
    "# carrots\n",
    "# carrots\n",
    "# artichokes\n",
    "# ['apples', 'eggs', 'artichokes', 'carrots', 'cucumbers', 'umbrellas', 'artichokes']"
   ]
  },
  {
   "cell_type": "markdown",
   "metadata": {},
   "source": [
    "### 3.8 Challenge\n",
    "\n",
    "Create a loop that <mark>converts 8-bit binary values</mark> from the provided list into <mark>decimal numbers</mark>. Then, after the value is determined, <mark>remove all the values greater than 100</mark> from the list using a list-related function you've been taught before. <mark>Print the new list</mark> when done.\n",
    "\n",
    "Once you've done this with one of the types of loops discussed in this lesson, create a function that does the same thing with a *different* type of loop."
   ]
  },
  {
   "cell_type": "code",
   "execution_count": null,
   "metadata": {},
   "outputs": [],
   "source": [
    "binarylist = [\n",
    "    \"01001001\", \"10101010\", \"10010110\", \"00110111\", \"11101100\", \"11010001\", \"10000001\"\n",
    "]\n",
    "\n",
    "def binary_convert(binary):\n",
    "    pass\n",
    "    #use this function to convert every binary value in binarylist to decimal\n",
    "    #afterward, get rid of the values that are greater than 100 in decimal\n",
    "\n",
    "#when done, print the results"
   ]
  },
  {
   "cell_type": "code",
   "execution_count": 14,
   "metadata": {},
   "outputs": [
    {
     "ename": "TypeError",
     "evalue": "can't multiply sequence by non-int of type 'tuple'",
     "output_type": "error",
     "traceback": [
      "\u001b[0;31m---------------------------------------------------------------------------\u001b[0m",
      "\u001b[0;31mTypeError\u001b[0m                                 Traceback (most recent call last)",
      "Cell \u001b[0;32mIn [14], line 20\u001b[0m\n\u001b[1;32m     16\u001b[0m         \u001b[39mprint\u001b[39m(decimalNum[j], end \u001b[39m=\u001b[39m \u001b[39m\"\u001b[39m\u001b[39m\"\u001b[39m);\n\u001b[1;32m     19\u001b[0m n \u001b[39m=\u001b[39m \u001b[39m\"\u001b[39m\u001b[39m01001001\u001b[39m\u001b[39m\"\u001b[39m, \u001b[39m\"\u001b[39m\u001b[39m10101010\u001b[39m\u001b[39m\"\u001b[39m, \u001b[39m\"\u001b[39m\u001b[39m10010110\u001b[39m\u001b[39m\"\u001b[39m, \u001b[39m\"\u001b[39m\u001b[39m00110111\u001b[39m\u001b[39m\"\u001b[39m, \u001b[39m\"\u001b[39m\u001b[39m11101100\u001b[39m\u001b[39m\"\u001b[39m, \u001b[39m\"\u001b[39m\u001b[39m11010001\u001b[39m\u001b[39m\"\u001b[39m, \u001b[39m\"\u001b[39m\u001b[39m10000001\u001b[39m\u001b[39m\"\u001b[39m;\n\u001b[0;32m---> 20\u001b[0m binarytoDec(n)\n",
      "Cell \u001b[0;32mIn [14], line 3\u001b[0m, in \u001b[0;36mbinarytoDec\u001b[0;34m(n)\u001b[0m\n\u001b[1;32m      1\u001b[0m \u001b[39mdef\u001b[39;00m \u001b[39mbinarytoDec\u001b[39m(n):\n\u001b[0;32m----> 3\u001b[0m     decimalNum \u001b[39m=\u001b[39m [\u001b[39m0\u001b[39;49m] \u001b[39m*\u001b[39;49m n;\n\u001b[1;32m      6\u001b[0m     i \u001b[39m=\u001b[39m \u001b[39m0\u001b[39m;\n\u001b[1;32m      7\u001b[0m     \u001b[39mwhile\u001b[39;00m (n \u001b[39m>\u001b[39m \u001b[39m0\u001b[39m):\n",
      "\u001b[0;31mTypeError\u001b[0m: can't multiply sequence by non-int of type 'tuple'"
     ]
    }
   ],
   "source": [
    "def binarytoDec(n):\n",
    "     \n",
    "    decimalNum = [0] * n;\n",
    " \n",
    "\n",
    "    i = 0;\n",
    "    while (n > 0):\n",
    " \n",
    "       \n",
    "        decimalNum[i] = n + 2;\n",
    "        n = int(n / 2);\n",
    "        i += 1;\n",
    " \n",
    "   \n",
    "    for j in range(i - 1, -1, -1):\n",
    "        print(decimalNum[j], end = \"\");\n",
    " \n",
    "\n",
    "n = \"01001001\", \"10101010\", \"10010110\", \"00110111\", \"11101100\", \"11010001\", \"10000001\";\n",
    "binarytoDec(n);\n",
    "\n"
   ]
  },
  {
   "cell_type": "markdown",
   "metadata": {},
   "source": [
    "I had a lot of trouble with this because I have converted binary to decimal before but never the other way around. I wasn't really sure where to start because I knew I needed to start with 2 for the binary, but I didn't know how to incorporate the whole list of values because I've only converted one value at a time. "
   ]
  }
 ],
 "metadata": {
  "kernelspec": {
   "display_name": "Python 3.10.6 64-bit",
   "language": "python",
   "name": "python3"
  },
  "language_info": {
   "codemirror_mode": {
    "name": "ipython",
    "version": 3
   },
   "file_extension": ".py",
   "mimetype": "text/x-python",
   "name": "python",
   "nbconvert_exporter": "python",
   "pygments_lexer": "ipython3",
   "version": "3.10.6"
  },
  "orig_nbformat": 4,
  "vscode": {
   "interpreter": {
    "hash": "b0fa6594d8f4cbf19f97940f81e996739fb7646882a419484c72d19e05852a7e"
   }
  }
 },
 "nbformat": 4,
 "nbformat_minor": 2
}
