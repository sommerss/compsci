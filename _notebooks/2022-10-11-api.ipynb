{
 "cells": [
  {
   "cell_type": "markdown",
   "metadata": {},
   "source": [
    "# api creation\n",
    "> APIs can be found all over the internet.  A great consolidator of many APIs is <mark>RapidAPI</mark>.  In this blog we will use a site to consolidates API stats.  Learning a few lines of code and you can start extracting lots of data from the internet via APIs.  \n",
    "- title: api\n",
    "- toc: true\n",
    "- image: /images/rapidapi.png\n",
    "- permalink: /techtalk/api\n",
    "- tags: [api, rapidapi]\n"
   ]
  },
  {
   "cell_type": "code",
   "execution_count": 43,
   "metadata": {},
   "outputs": [
    {
     "name": "stdout",
     "output_type": "stream",
     "text": [
      "{'date': 'January 6', 'text': 'Ferdinand and Isabella enter into Granada', 'number': 1492, 'found': True, 'type': 'year'}\n",
      "date January 6\n",
      "text Ferdinand and Isabella enter into Granada\n",
      "number 1492\n",
      "found True\n",
      "type year\n"
     ]
    }
   ],
   "source": [
    "import requests\n",
    "\n",
    "url = \"https://numbersapi.p.rapidapi.com/1492/year\"\n",
    "\n",
    "querystring = {\"fragment\":\"true\",\"json\":\"true\"}\n",
    "\n",
    "headers = {\n",
    "\t\"X-RapidAPI-Key\": \"eb379b3b88mshac0018f5fdc3d2dp1b766fjsn91c096d37f4e\",\n",
    "\t\"X-RapidAPI-Host\": \"numbersapi.p.rapidapi.com\"\n",
    "}\n",
    "\n",
    "response = requests.request(\"GET\", url, headers=headers, params=querystring)\n",
    "\n",
    "\n",
    "\n",
    "dict= response.json()\n",
    "print(dict)\n",
    "\n",
    "for k,v in dict.items():\n",
    "    print(k,v)\n",
    "\n",
    "\n"
   ]
  }
 ],
 "metadata": {
  "kernelspec": {
   "display_name": "Python 3.10.6 64-bit",
   "language": "python",
   "name": "python3"
  },
  "language_info": {
   "codemirror_mode": {
    "name": "ipython",
    "version": 3
   },
   "file_extension": ".py",
   "mimetype": "text/x-python",
   "name": "python",
   "nbconvert_exporter": "python",
   "pygments_lexer": "ipython3",
   "version": "3.10.6"
  },
  "orig_nbformat": 4,
  "vscode": {
   "interpreter": {
    "hash": "b0fa6594d8f4cbf19f97940f81e996739fb7646882a419484c72d19e05852a7e"
   }
  }
 },
 "nbformat": 4,
 "nbformat_minor": 2
}
