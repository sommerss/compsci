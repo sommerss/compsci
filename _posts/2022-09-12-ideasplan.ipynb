{
 "cells": [
  {
   "cell_type": "markdown",
   "metadata": {},
   "source": [
    "code.org test layout\n",
    "\n",
    "## Ideas \n",
    "\n",
    "geography\n",
    "   1. location of statues\n",
    "   2. world wonders\n",
    "\n",
    "\n",
    "\n",
    "   \n",
    "sports\n",
    "   1. players\n",
    "   2. teams\n",
    "\n",
    "\n",
    "\n",
    "   \n",
    "history\n",
    "   1. figures and events\n",
    "\n",
    "\n",
    "## Final topic choice\n",
    "\n",
    "geography\n",
    "\n",
    "\n",
    "## Questions\n",
    "\n",
    "1. What country is the Eiffel Tower in? Answer: France\n",
    "2. What country are the Pyramids in? Answer: Egypt\n",
    "3. What country is the Statue of Liberty in? Answer: United States\n",
    "\n",
    "\n",
    "\n",
    "\n",
    "\n",
    "\n",
    "\n",
    "\n"
   ]
  },
  {
   "cell_type": "markdown",
   "metadata": {},
   "source": [
    "final creation-\n",
    "1. purpose and function\n",
    "2. data abstraction (things that have/can store data- storing information- list, dictionary- not individual, have storage space\n",
    "3. Managing complexity- how you use the storage methods to make code more efficient\n",
    "4. Procedural abstraction- storing information- can use function (less complex)(infodb- function (print statements))- making multiple things into one thing so you dont have to keep typing over and over\n",
    "5. algorithm implementation- iteration, taking data and looping through it (loops we learned- for while recursion if else- condition statements)\n",
    "6. testing- (how can you test your applab- by seeing results (ex run button from applab)), the console message shows success- testing to see where bug could be\n",
    "-can work in pairs\n",
    "\n",
    "HACK- blog post preparation for the test (See how i got a 5 by bria)"
   ]
  },
  {
   "cell_type": "markdown",
   "metadata": {},
   "source": [
    "### final creation planning:\n",
    "\n",
    "store information about greys anatomy in a database and use different kind of loops and a table to print the information in the correct section. make messages so it shows which character has been printed (basic print function) and make it loop until it prints information up to the season that im currently on. \n",
    "\n",
    "purpose/function: print and sort information about greys anatomy.\n",
    "data abstraction: dictionary\n",
    "managing complexity: table and infodb\n",
    "procedural abstraction: use infodb and loops \n",
    "algorithm: loops (for if else while recursion- use of multiple condition statements)\n",
    "testing: with console message"
   ]
  }
 ],
 "metadata": {
  "kernelspec": {
   "display_name": "Python 3.8.10 64-bit",
   "language": "python",
   "name": "python3"
  },
  "language_info": {
   "name": "python",
   "version": "3.8.10"
  },
  "orig_nbformat": 4,
  "vscode": {
   "interpreter": {
    "hash": "916dbcbb3f70747c44a77c7bcd40155683ae19c65e1c03b4aa3499c5328201f1"
   }
  }
 },
 "nbformat": 4,
 "nbformat_minor": 2
}
