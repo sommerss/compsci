{
 "cells": [
  {
   "attachments": {},
   "cell_type": "markdown",
   "metadata": {},
   "source": [
    "# Unit 3 Sections 14-15 Homework\n",
    "> Here are the instructions for the homework for sections 14-15.\n",
    "\n",
    "- toc: true\n",
    "- comments: true\n",
    "- categories: [Week-13,Big-Idea-3]\n",
    "- image: /images/college-board-logo.png"
   ]
  },
  {
   "attachments": {},
   "cell_type": "markdown",
   "metadata": {},
   "source": [
    "Create a program that asks the user for a day and then gives them a distance in days between that day and another random day in the year. We have provided you with a possible starter, but you are welcome to change it up if you would like."
   ]
  },
  {
   "cell_type": "code",
   "execution_count": 25,
   "metadata": {},
   "outputs": [
    {
     "name": "stdout",
     "output_type": "stream",
     "text": [
      "1-1-2000 is the date you chose\n",
      "6-1-2000 is the randomized date\n",
      "the difference between these two dates is 151 days\n"
     ]
    }
   ],
   "source": [
    "from datetime import date\n",
    "import random\n",
    "import math\n",
    "\n",
    "days_dictionary = {\n",
    "    1: 31,\n",
    "    2: 28,\n",
    "    3: 31,\n",
    "    4: 30,\n",
    "    5: 31,\n",
    "    6: 30,\n",
    "    7: 31,\n",
    "    8: 31,\n",
    "    9: 30,\n",
    "    10: 31,\n",
    "    11: 30,\n",
    "    12: 31,\n",
    "}\n",
    "\n",
    "day = int(input(\"give a day!\"))\n",
    "month = int(input(\"give a month!\"))\n",
    "year = int(input(\"give a year!\"))\n",
    "thedate = str(month) + \"-\" + str(day) + \"-\" + str(year)\n",
    "print(thedate + \" is the date you chose\")\n",
    "\n",
    "randommonth = random.randint(1,12)\n",
    "RDO = days_dictionary.get(randommonth)\n",
    "randomday = random.randint(0,RDO)\n",
    "USD = str(randommonth) + \"-\" + str(randomday) + \"-\" + str(year)\n",
    "print(USD + \" is the randomized date\")\n",
    "\n",
    "def difdays(month, day):\n",
    "    dif = 0\n",
    "\n",
    "    for i in range(1,month):\n",
    "        dif += (days_dictionary.get(i))\n",
    "\n",
    "    dif += day\n",
    "    return(dif)\n",
    "\n",
    "givendays = difdays(month, day)\n",
    "randomdays = difdays(randommonth, randomday)\n",
    "x = abs(randomdays-givendays)\n",
    "print(\"the difference between these two dates is \" + str(x) + \" days\")\n",
    "\n",
    "\n"
   ]
  },
  {
   "cell_type": "code",
   "execution_count": null,
   "metadata": {},
   "outputs": [],
   "source": []
  }
 ],
 "metadata": {
  "kernelspec": {
   "display_name": "Python 3.10.6 64-bit",
   "language": "python",
   "name": "python3"
  },
  "language_info": {
   "codemirror_mode": {
    "name": "ipython",
    "version": 3
   },
   "file_extension": ".py",
   "mimetype": "text/x-python",
   "name": "python",
   "nbconvert_exporter": "python",
   "pygments_lexer": "ipython3",
   "version": "3.10.6"
  },
  "orig_nbformat": 4,
  "vscode": {
   "interpreter": {
    "hash": "b0fa6594d8f4cbf19f97940f81e996739fb7646882a419484c72d19e05852a7e"
   }
  }
 },
 "nbformat": 4,
 "nbformat_minor": 2
}
