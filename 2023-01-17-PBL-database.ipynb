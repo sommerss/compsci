{
 "cells": [
  {
   "attachments": {},
   "cell_type": "markdown",
   "metadata": {},
   "source": [
    "# Database/Model, Python, Backend, OOP\n",
    "> The project-based learning objective is to create a purposeful backend, something that can't be done in frontend via JavaScript.  A database and storing persistent data is a primary focus of most backend systems.  An SQLite Database using the Python SQLAlchemy framework will be the outcome of this lesson.  As students learn databases using SQLAlchemy, they will also learn about Object-oriented programming in Python.\n",
    "\n",
    "- title: Database/Model, Python, Backend, OOP\n",
    "- toc: true\n",
    "- categories: []\n",
    "- image: /images/python.png\n",
    "- type: pbl\n",
    "- week: 19"
   ]
  },
  {
   "cell_type": "markdown",
   "metadata": {},
   "source": [
    "## Database and Table Terms\n",
    "> The foundations of database is defining one or more ***Tables***.  In Python, a database can be constructed using the foundations we learned in modeling a Class.\n",
    "* A \"Table\" is a Model/Schema within a Database.  \n",
    "* A \"Table\" definition in Python/SQLAlchemy is manifested by defining a \"***Class***\" and \"***Attributes***\" in Python.  \n",
    "* A Python ***Class can inherit database functionality*** from SQLAlchemy.  This is a method Python developers use to turn a Class into a Table within a ***SQL Database***.\n",
    "* Writing methods in the Class for Create, Read, Update, Delete (***CRUD***) is how a developer initiates database operations."
   ]
  },
  {
   "cell_type": "markdown",
   "metadata": {},
   "source": [
    "## Reference\n",
    "- [SQLAlchemy](https://www.sqlalchemy.org/)\n",
    "- [Python Backend with Flask, SQLite](https://www.ffnext.io/blog/python-backend-with-flask-for-beginners#:~:text=You%20can%20create%20an%20HTTP,command%3A%20python%20app.py.)\n",
    "- [Backend API and Flask](https://www.ffnext.io/blog/python-backend-with-flask-for-beginners#:~:text=You%20can%20create%20an%20HTTP,command%3A%20python%20app.py.)"
   ]
  },
  {
   "cell_type": "markdown",
   "metadata": {},
   "source": [
    "## Working outline for blog\n",
    "\n",
    "Review this code to understand concepts so far...\n",
    "1. Model Defining the [Table](https://github.com/nighthawkcoders/nighthawk_csp/blob/master/cruddy/model.py#L15) Class\n",
    "2. Model [Testing and Initial Setup](https://github.com/nighthawkcoders/nighthawk_csp/blob/master/cruddy/model.py#L24)\n",
    "3. Model Defining function to support [CRUD operations](https://github.com/nighthawkcoders/nighthawk_csp/blob/master/cruddy/model.py) \n",
    "4. Control Methods for [Create](https://github.com/nighthawkcoders/nighthawk_csp/blob/master/cruddy/app_crud.py#L65-L77), [Read](https://github.com/nighthawkcoders/nighthawk_csp/blob/master/cruddy/app_crud.py#L80-L90), [Update](https://github.com/nighthawkcoders/nighthawk_csp/blob/master/cruddy/app_crud.py#L93-L103), [Delete](https://github.com/nighthawkcoders/nighthawk_csp/blob/master/cruddy/app_crud.py#L106-L115) or Alternative [CRUD API definitions ](https://github.com/nighthawkcoders/nighthawk_csp/blob/master/cruddy/app_crud.py#L138-L189)\n",
    "5. View Here is a [runtime](https://csp.nighthawkcodingsociety.com/crud/) showing off some CRUD. All the MVC code is show at the bottom of this page.\n",
    "\n",
    "To get started with databases, perhaps you can simply try to get some Database Code running in your project.  Then you could try to define a new Table in you database.  After pulling code, you will need to Init your database and table by running the [Tester Method](https://github.com/nighthawkcoders/nighthawk_csp/blob/master/cruddy/model.py#L93-114)."
   ]
  }
 ],
 "metadata": {
  "kernelspec": {
   "display_name": "Python 3",
   "language": "python",
   "name": "python3"
  },
  "language_info": {
   "name": "python",
   "version": "3.10.9 (main, Dec 15 2022, 17:11:09) [Clang 14.0.0 (clang-1400.0.29.202)]"
  },
  "orig_nbformat": 4,
  "vscode": {
   "interpreter": {
    "hash": "b0fa6594d8f4cbf19f97940f81e996739fb7646882a419484c72d19e05852a7e"
   }
  }
 },
 "nbformat": 4,
 "nbformat_minor": 2
}
